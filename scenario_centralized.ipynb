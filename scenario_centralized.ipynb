{
 "cells": [
  {
   "cell_type": "markdown",
   "metadata": {},
   "source": [
    "# DMF Regression "
   ]
  },
  {
   "cell_type": "code",
   "execution_count": null,
   "metadata": {},
   "outputs": [],
   "source": [
    "import random\n",
    "import numpy as np\n",
    "import torch\n",
    "\n",
    "torch.cuda.empty_cache()\n",
    "\n",
    "def set_seed(seed: int):\n",
    "    random.seed(seed)\n",
    "    np.random.seed(seed)\n",
    "    torch.manual_seed(seed)\n",
    "    if torch.cuda.is_available():\n",
    "        torch.cuda.manual_seed(seed)\n",
    "        torch.cuda.manual_seed_all(seed)\n",
    "    torch.backends.cudnn.deterministic = True\n",
    "    torch.backends.cudnn.benchmark = False\n",
    "\n",
    "set_seed(42)"
   ]
  },
  {
   "cell_type": "code",
   "execution_count": 2,
   "metadata": {},
   "outputs": [
    {
     "name": "stdout",
     "output_type": "stream",
     "text": [
      "Dataset Splits: dict_keys(['train', 'validation'])\n",
      "Train Shape: (713105, 3)\n",
      "Valid Shape: (176002, 3)\n",
      "Test Shape: (97753, 3)\n",
      "Number of Users: 42385\n",
      "Number of Movies: 14559\n",
      "Global Interaction Shape: torch.Size([42385, 14559])\n"
     ]
    }
   ],
   "source": [
    "\n",
    "########################################\n",
    "# Data Preparation\n",
    "########################################\n",
    "\n",
    "from sklearn.model_selection import train_test_split\n",
    "from datasets import load_dataset\n",
    "import pandas as pd\n",
    "from torch.utils.data import Dataset, DataLoader\n",
    "from dmf import *\n",
    "\n",
    "# Load the MovieLens dataset from Hugging Face\n",
    "dataset_name = \"ashraq/movielens_ratings\"\n",
    "dataset = load_dataset(dataset_name)\n",
    "\n",
    "print(\"Dataset Splits:\", dataset.keys())\n",
    "\n",
    "train_full = dataset[\"train\"].to_pandas()[[\"user_id\", \"movie_id\", \"rating\"]]\n",
    "test = dataset[\"validation\"].to_pandas()[[\"user_id\", \"movie_id\", \"rating\"]]\n",
    "\n",
    "train, valid = train_test_split(train_full, test_size=0.2, random_state=42)\n",
    "train_users = set(train['user_id'].unique())\n",
    "train_movies = set(train['movie_id'].unique())\n",
    "valid = valid[\n",
    "    valid['user_id'].isin(train_users) &\n",
    "    valid['movie_id'].isin(train_movies)\n",
    "]\n",
    "test = test[\n",
    "    test['user_id'].isin(train_users) &\n",
    "    test['movie_id'].isin(train_movies)\n",
    "]\n",
    "\n",
    "print(\"Train Shape:\", train.shape)\n",
    "print(\"Valid Shape:\", valid.shape)\n",
    "print(\"Test Shape:\", test.shape)\n",
    "\n",
    "all_users = set(train['user_id']).union(valid['user_id']).union(test['user_id'])\n",
    "all_movies = set(train['movie_id']).union(valid['movie_id']).union(test['movie_id'])\n",
    "user_id_map = {user: idx for idx, user in enumerate(sorted(all_users))}\n",
    "movie_id_map = {movie: idx for idx, movie in enumerate(sorted(all_movies))}\n",
    "\n",
    "num_users = len(user_id_map) \n",
    "num_movies = len(movie_id_map) \n",
    "print(\"Number of Users:\", num_users)\n",
    "print(\"Number of Movies:\", num_movies)\n",
    "\n",
    "interaction_matrix = np.zeros((num_users, num_movies), dtype=np.float32)\n",
    "# Fill the matrix using the mappings\n",
    "for _, row in train.iterrows():\n",
    "    user_idx = user_id_map[int(row['user_id'])]\n",
    "    movie_idx = movie_id_map[int(row['movie_id'])]\n",
    "    interaction_matrix[user_idx, movie_idx] = row['rating']\n",
    "\n",
    "global_interaction = torch.tensor(interaction_matrix)\n",
    "print(\"Global Interaction Shape:\", global_interaction.shape)\n",
    "\n",
    "########################################\n",
    "# Define a PyTorch Dataset\n",
    "########################################\n",
    "\n",
    "train_dataset = DMFDataset(train, user_id_map, movie_id_map)\n",
    "valid_dataset = DMFDataset(valid, user_id_map, movie_id_map)\n",
    "test_dataset = DMFDataset(test, user_id_map, movie_id_map)\n"
   ]
  },
  {
   "cell_type": "code",
   "execution_count": 3,
   "metadata": {},
   "outputs": [
    {
     "name": "stderr",
     "output_type": "stream",
     "text": [
      "\u001b[34m\u001b[1mwandb\u001b[0m: Currently logged in as: \u001b[33mhh_upb\u001b[0m (\u001b[33mhh_upb-paderborn-university\u001b[0m) to \u001b[32mhttps://api.wandb.ai\u001b[0m. Use \u001b[1m`wandb login --relogin`\u001b[0m to force relogin\n",
      "\u001b[34m\u001b[1mwandb\u001b[0m: Using wandb-core as the SDK backend.  Please refer to https://wandb.me/wandb-core for more information.\n"
     ]
    },
    {
     "data": {
      "text/html": [
       "Tracking run with wandb version 0.19.6"
      ],
      "text/plain": [
       "<IPython.core.display.HTML object>"
      ]
     },
     "metadata": {},
     "output_type": "display_data"
    },
    {
     "data": {
      "text/html": [
       "Run data is saved locally in <code>/home/haya/FedRec/wandb/run-20250207_094029-fa2lg8je</code>"
      ],
      "text/plain": [
       "<IPython.core.display.HTML object>"
      ]
     },
     "metadata": {},
     "output_type": "display_data"
    },
    {
     "data": {
      "text/html": [
       "Syncing run <strong><a href='https://wandb.ai/hh_upb-paderborn-university/FedRec/runs/fa2lg8je' target=\"_blank\">centralized_regression_warm</a></strong> to <a href='https://wandb.ai/hh_upb-paderborn-university/FedRec' target=\"_blank\">Weights & Biases</a> (<a href='https://wandb.me/developer-guide' target=\"_blank\">docs</a>)<br>"
      ],
      "text/plain": [
       "<IPython.core.display.HTML object>"
      ]
     },
     "metadata": {},
     "output_type": "display_data"
    },
    {
     "data": {
      "text/html": [
       " View project at <a href='https://wandb.ai/hh_upb-paderborn-university/FedRec' target=\"_blank\">https://wandb.ai/hh_upb-paderborn-university/FedRec</a>"
      ],
      "text/plain": [
       "<IPython.core.display.HTML object>"
      ]
     },
     "metadata": {},
     "output_type": "display_data"
    },
    {
     "data": {
      "text/html": [
       " View run at <a href='https://wandb.ai/hh_upb-paderborn-university/FedRec/runs/fa2lg8je' target=\"_blank\">https://wandb.ai/hh_upb-paderborn-university/FedRec/runs/fa2lg8je</a>"
      ],
      "text/plain": [
       "<IPython.core.display.HTML object>"
      ]
     },
     "metadata": {},
     "output_type": "display_data"
    },
    {
     "name": "stderr",
     "output_type": "stream",
     "text": [
      "                                                                            \r"
     ]
    },
    {
     "name": "stdout",
     "output_type": "stream",
     "text": [
      "Epoch 1/30  Train Loss: 0.3092\n",
      "Epoch 1/30  Validation Loss: 0.2524\n",
      "  Validation loss improved. Saving model state.\n"
     ]
    },
    {
     "name": "stderr",
     "output_type": "stream",
     "text": [
      "                                                                            \r"
     ]
    },
    {
     "name": "stdout",
     "output_type": "stream",
     "text": [
      "Epoch 2/30  Train Loss: 0.2649\n",
      "Epoch 2/30  Validation Loss: 0.2425\n",
      "  Validation loss improved. Saving model state.\n"
     ]
    },
    {
     "name": "stderr",
     "output_type": "stream",
     "text": [
      "                                                                            \r"
     ]
    },
    {
     "name": "stdout",
     "output_type": "stream",
     "text": [
      "Epoch 3/30  Train Loss: 0.2559\n",
      "Epoch 3/30  Validation Loss: 0.2363\n",
      "  Validation loss improved. Saving model state.\n"
     ]
    },
    {
     "name": "stderr",
     "output_type": "stream",
     "text": [
      "                                                                            \r"
     ]
    },
    {
     "name": "stdout",
     "output_type": "stream",
     "text": [
      "Epoch 4/30  Train Loss: 0.2503\n",
      "Epoch 4/30  Validation Loss: 0.2355\n",
      "  Validation loss improved. Saving model state.\n"
     ]
    },
    {
     "name": "stderr",
     "output_type": "stream",
     "text": [
      "                                                                            \r"
     ]
    },
    {
     "name": "stdout",
     "output_type": "stream",
     "text": [
      "Epoch 5/30  Train Loss: 0.2465\n",
      "Epoch 5/30  Validation Loss: 0.2327\n",
      "  Validation loss improved. Saving model state.\n"
     ]
    },
    {
     "name": "stderr",
     "output_type": "stream",
     "text": [
      "                                                                            \r"
     ]
    },
    {
     "name": "stdout",
     "output_type": "stream",
     "text": [
      "Epoch 6/30  Train Loss: 0.2433\n",
      "Epoch 6/30  Validation Loss: 0.2261\n",
      "  Validation loss improved. Saving model state.\n"
     ]
    },
    {
     "name": "stderr",
     "output_type": "stream",
     "text": [
      "                                                                            \r"
     ]
    },
    {
     "name": "stdout",
     "output_type": "stream",
     "text": [
      "Epoch 7/30  Train Loss: 0.2410\n",
      "Epoch 7/30  Validation Loss: 0.2306\n",
      "  No improvement in validation loss for 1 epoch(s).\n"
     ]
    },
    {
     "name": "stderr",
     "output_type": "stream",
     "text": [
      "                                                                            \r"
     ]
    },
    {
     "name": "stdout",
     "output_type": "stream",
     "text": [
      "Epoch 8/30  Train Loss: 0.2392\n",
      "Epoch 8/30  Validation Loss: 0.2279\n",
      "  No improvement in validation loss for 2 epoch(s).\n"
     ]
    },
    {
     "name": "stderr",
     "output_type": "stream",
     "text": [
      "                                                                            \r"
     ]
    },
    {
     "name": "stdout",
     "output_type": "stream",
     "text": [
      "Epoch 9/30  Train Loss: 0.2376\n",
      "Epoch 9/30  Validation Loss: 0.2290\n",
      "  No improvement in validation loss for 3 epoch(s).\n"
     ]
    },
    {
     "name": "stderr",
     "output_type": "stream",
     "text": [
      "                                                                             \r"
     ]
    },
    {
     "name": "stdout",
     "output_type": "stream",
     "text": [
      "Epoch 10/30  Train Loss: 0.2357\n",
      "Epoch 10/30  Validation Loss: 0.2263\n",
      "  No improvement in validation loss for 4 epoch(s).\n"
     ]
    },
    {
     "name": "stderr",
     "output_type": "stream",
     "text": [
      "                                                                             \r"
     ]
    },
    {
     "name": "stdout",
     "output_type": "stream",
     "text": [
      "Epoch 11/30  Train Loss: 0.2346\n",
      "Epoch 11/30  Validation Loss: 0.2273\n",
      "  No improvement in validation loss for 5 epoch(s).\n",
      "Early stopping triggered.\n",
      "Loaded best model state with validation loss: 0.2261\n",
      "Saved best model state\n"
     ]
    },
    {
     "data": {
      "text/html": [],
      "text/plain": [
       "<IPython.core.display.HTML object>"
      ]
     },
     "metadata": {},
     "output_type": "display_data"
    },
    {
     "data": {
      "text/html": [
       "<br>    <style><br>        .wandb-row {<br>            display: flex;<br>            flex-direction: row;<br>            flex-wrap: wrap;<br>            justify-content: flex-start;<br>            width: 100%;<br>        }<br>        .wandb-col {<br>            display: flex;<br>            flex-direction: column;<br>            flex-basis: 100%;<br>            flex: 1;<br>            padding: 10px;<br>        }<br>    </style><br><div class=\"wandb-row\"><div class=\"wandb-col\"><h3>Run history:</h3><br/><table class=\"wandb\"><tr><td>epoch</td><td>▁▂▂▃▄▅▅▆▇▇█</td></tr><tr><td>patience_counter</td><td>▁▁▁▁▁▁▁▃▅▆█</td></tr><tr><td>train_loss</td><td>█▄▃▂▂▂▂▁▁▁▁</td></tr><tr><td>val_loss</td><td>█▅▄▄▃▁▂▁▂▁▁</td></tr></table><br/></div><div class=\"wandb-col\"><h3>Run summary:</h3><br/><table class=\"wandb\"><tr><td>epoch</td><td>11</td></tr><tr><td>patience_counter</td><td>4</td></tr><tr><td>train_loss</td><td>0.23461</td></tr><tr><td>val_loss</td><td>0.2273</td></tr></table><br/></div></div>"
      ],
      "text/plain": [
       "<IPython.core.display.HTML object>"
      ]
     },
     "metadata": {},
     "output_type": "display_data"
    },
    {
     "data": {
      "text/html": [
       " View run <strong style=\"color:#cdcd00\">centralized_regression_warm</strong> at: <a href='https://wandb.ai/hh_upb-paderborn-university/FedRec/runs/fa2lg8je' target=\"_blank\">https://wandb.ai/hh_upb-paderborn-university/FedRec/runs/fa2lg8je</a><br> View project at: <a href='https://wandb.ai/hh_upb-paderborn-university/FedRec' target=\"_blank\">https://wandb.ai/hh_upb-paderborn-university/FedRec</a><br>Synced 5 W&B file(s), 0 media file(s), 0 artifact file(s) and 0 other file(s)"
      ],
      "text/plain": [
       "<IPython.core.display.HTML object>"
      ]
     },
     "metadata": {},
     "output_type": "display_data"
    },
    {
     "data": {
      "text/html": [
       "Find logs at: <code>./wandb/run-20250207_094029-fa2lg8je/logs</code>"
      ],
      "text/plain": [
       "<IPython.core.display.HTML object>"
      ]
     },
     "metadata": {},
     "output_type": "display_data"
    }
   ],
   "source": [
    "########################################\n",
    "# Initilize DMF Model\n",
    "########################################\n",
    "import wandb\n",
    "\n",
    "device = torch.device(\"cuda\" if torch.cuda.is_available() else \"cpu\")\n",
    "\n",
    "model = DMFRegressor(num_users=num_users, \n",
    "                 num_movies=num_movies,\n",
    "                 global_interaction=global_interaction,\n",
    "                 user_embedding_size=32,  \n",
    "                 item_embedding_size=32,  \n",
    "                 user_hidden_sizes=[64, 32],  \n",
    "                 item_hidden_sizes=[64, 32],\n",
    "                 dropout=0.3,\n",
    "                 activation=\"leaky_relu\",\n",
    "                 bn=True,\n",
    "                 init_method=\"norm\").to(device)\n",
    "\n",
    "\n",
    "\n",
    "########################################\n",
    "# Running Training and Evaluation with DMF Model\n",
    "########################################\n",
    "\n",
    "batch_size = 256\n",
    "num_epochs = 30\n",
    "lr=0.0001\n",
    "weight_decay=1e-4\n",
    "patience = 5\n",
    "\n",
    "\n",
    "wandb = wandb.init(project=\"FedRec\", \n",
    "    name=\"centralized_regression_warm\",\n",
    "    reinit=True, \n",
    "    config={\n",
    "    \"batch_size\": batch_size,\n",
    "    \"num_epochs\": num_epochs,\n",
    "    \"lr\": lr,\n",
    "    \"weight_decay\": weight_decay,\n",
    "    \"patience\": patience\n",
    "})\n",
    "\n",
    "\n",
    "# Train the model\n",
    "train_model_w_early_stopping(model, \n",
    "                            train_dataset, \n",
    "                            valid_dataset, \n",
    "                            device, \n",
    "                            batch_size=batch_size, \n",
    "                            num_epochs=num_epochs, \n",
    "                            lr=lr, \n",
    "                            weight_decay=weight_decay, \n",
    "                            patience=patience,\n",
    "                            wandb = wandb, \n",
    "                            save_as = \"models/centeralized_model.pt\") \n"
   ]
  },
  {
   "cell_type": "code",
   "execution_count": 4,
   "metadata": {},
   "outputs": [
    {
     "name": "stderr",
     "output_type": "stream",
     "text": [
      "                                                              "
     ]
    },
    {
     "name": "stdout",
     "output_type": "stream",
     "text": [
      "Evaluation - Loss: 0.2278\n",
      "MAE: 0.6614, RMSE: 0.8827, R^2: 0.2976\n"
     ]
    },
    {
     "name": "stderr",
     "output_type": "stream",
     "text": [
      "\r"
     ]
    }
   ],
   "source": [
    "# Evaluate the model.\n",
    "\n",
    "average_loss, mae, rmse, r2 = evaluate_DMFRegressor(model, test_dataset, device, batch_size=batch_size)\n",
    " "
   ]
  }
 ],
 "metadata": {
  "kernelspec": {
   "display_name": "FedRec",
   "language": "python",
   "name": "python3"
  },
  "language_info": {
   "codemirror_mode": {
    "name": "ipython",
    "version": 3
   },
   "file_extension": ".py",
   "mimetype": "text/x-python",
   "name": "python",
   "nbconvert_exporter": "python",
   "pygments_lexer": "ipython3",
   "version": "3.9.6"
  },
  "orig_nbformat": 4
 },
 "nbformat": 4,
 "nbformat_minor": 2
}
