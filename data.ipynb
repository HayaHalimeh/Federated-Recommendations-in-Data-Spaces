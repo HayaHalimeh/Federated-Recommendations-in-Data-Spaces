{
 "cells": [
  {
   "cell_type": "code",
   "execution_count": 2,
   "metadata": {},
   "outputs": [
    {
     "name": "stdout",
     "output_type": "stream",
     "text": [
      "0.5.0\n"
     ]
    }
   ],
   "source": [
    "!python -c \"import flwr_datasets;print(flwr_datasets.__version__)\""
   ]
  },
  {
   "cell_type": "markdown",
   "metadata": {},
   "source": [
    "# Training Data"
   ]
  },
  {
   "cell_type": "code",
   "execution_count": 2,
   "metadata": {},
   "outputs": [
    {
     "name": "stderr",
     "output_type": "stream",
     "text": [
      "/home/haya/miniconda/envs/fedrec/lib/python3.9/site-packages/flwr_datasets/utils.py:109: UserWarning: The currently tested dataset are ['mnist', 'ylecun/mnist', 'cifar10', 'uoft-cs/cifar10', 'fashion_mnist', 'zalando-datasets/fashion_mnist', 'sasha/dog-food', 'zh-plus/tiny-imagenet', 'scikit-learn/adult-census-income', 'cifar100', 'uoft-cs/cifar100', 'svhn', 'ufldl-stanford/svhn', 'sentiment140', 'stanfordnlp/sentiment140', 'speech_commands', 'LIUM/tedlium', 'flwrlabs/femnist', 'flwrlabs/ucf101', 'flwrlabs/ambient-acoustic-context', 'jlh/uci-mushrooms', 'Mike0307/MNIST-M', 'flwrlabs/usps', 'scikit-learn/iris', 'flwrlabs/pacs', 'flwrlabs/cinic10', 'flwrlabs/caltech101', 'flwrlabs/office-home', 'flwrlabs/fed-isic2019']. Given: ashraq/movielens_ratings.\n",
      "  warnings.warn(\n"
     ]
    },
    {
     "name": "stdout",
     "output_type": "stream",
     "text": [
      "Size of partitions\n",
      "178277\n",
      "178277\n",
      "178276\n",
      "178276\n",
      "178276\n",
      "--------------------------------------------------\n",
      "Number of users\n",
      "31384\n",
      "31297\n",
      "31403\n",
      "31404\n",
      "31219\n",
      "--------------------------------------------------\n",
      "Numbr of movies\n",
      "9307\n",
      "9308\n",
      "9280\n",
      "9316\n",
      "9329\n"
     ]
    }
   ],
   "source": [
    "import numpy as np\n",
    "from pprint import pprint\n",
    "\n",
    "from flwr_datasets import FederatedDataset\n",
    "from flwr_datasets.partitioner import IidPartitioner\n",
    "\n",
    "\n",
    "dataset = \"ashraq/movielens_ratings\" \n",
    "\n",
    "# Partition the training set into 5 partitions\n",
    "partitioner = IidPartitioner(num_partitions=5)           \n",
    "fds = FederatedDataset(dataset=dataset,\n",
    "                       partitioners={\"train\": partitioner})\n",
    "\n",
    "\n",
    "# Load the partitions of the \"train\" split\n",
    "partition_0 = fds.load_partition(0, \"train\")\n",
    "partition_1 = fds.load_partition(1, \"train\")\n",
    "partition_2 = fds.load_partition(2, \"train\")\n",
    "partition_3 = fds.load_partition(3, \"train\")\n",
    "partition_4 = fds.load_partition(4, \"train\")\n",
    "\n",
    "\n",
    "# Descriptive statistics\n",
    "print('Size of partitions')\n",
    "print(len(partition_0))\n",
    "print(len(partition_1))\n",
    "print(len(partition_2))\n",
    "print(len(partition_3))\n",
    "print(len(partition_4))\n",
    "print(\"-\"*50)\n",
    "\n",
    "\n",
    "print('Number of users')\n",
    "print(len(np.unique(partition_0[\"user_id\"])))\n",
    "print(len(np.unique(partition_1[\"user_id\"])))\n",
    "print(len(np.unique(partition_2[\"user_id\"])))\n",
    "print(len(np.unique(partition_3[\"user_id\"])))\n",
    "print(len(np.unique(partition_4[\"user_id\"])))\n",
    "print(\"-\"*50)\n",
    "\n",
    "\n",
    "print('Numbr of movies')\n",
    "print(len(np.unique(partition_0[\"movie_id\"])))\n",
    "print(len(np.unique(partition_1[\"movie_id\"])))\n",
    "print(len(np.unique(partition_2[\"movie_id\"])))\n",
    "print(len(np.unique(partition_3[\"movie_id\"])))\n",
    "print(len(np.unique(partition_4[\"movie_id\"])))\n"
   ]
  },
  {
   "cell_type": "code",
   "execution_count": 12,
   "metadata": {},
   "outputs": [
    {
     "name": "stderr",
     "output_type": "stream",
     "text": [
      "/home/haya/miniconda/envs/fedrec/lib/python3.9/site-packages/flwr_datasets/metrics/utils.py:130: UserWarning: The verbose names can not be established. The column specified by 'column_name' needs to be of type 'ClassLabel' to create a verbose names. The available names will used.\n",
      "  warnings.warn(\n"
     ]
    },
    {
     "data": {
      "image/png": "[encoded data removed]",
      "text/plain": [
       "<Figure size 640x480 with 1 Axes>"
      ]
     },
     "metadata": {},
     "output_type": "display_data"
    }
   ],
   "source": [
    "# Rating distribution\n",
    "from flwr_datasets.visualization import plot_label_distributions\n",
    "\n",
    "fig, ax, df = plot_label_distributions(\n",
    "    partitioner,\n",
    "    label_name=\"rating\",\n",
    "    plot_type=\"bar\",\n",
    "    size_unit=\"percent\",\n",
    "    partition_id_axis=\"x\",\n",
    "    legend=True,\n",
    "    verbose_labels=True,\n",
    "    title=\"Per Partition Ratings Distribution\",\n",
    "    legend_kwargs={\"title\": \"Ratings\"} \n",
    ")\n",
    "\n",
    "\n",
    "#Stacked Bar Chart of Ratings (Normalized) to percent\n",
    "#Each partition shows a nearly identical stacked bar distribution.\n",
    "#The proportions of each rating category remain consistent across partitions.\n"
   ]
  },
  {
   "cell_type": "markdown",
   "metadata": {},
   "source": [
    "# Statistical Tests "
   ]
  },
  {
   "cell_type": "code",
   "execution_count": 26,
   "metadata": {},
   "outputs": [
    {
     "name": "stdout",
     "output_type": "stream",
     "text": [
      "\n",
      "========== Processing train_0 ==========\n",
      "KL Divergence: 0.0000\n",
      "Jensen-Shannon Divergence: 0.0000\n",
      "\n",
      "========== Processing train_1 ==========\n",
      "KL Divergence: 0.0001\n",
      "Jensen-Shannon Divergence: 0.0000\n",
      "\n",
      "========== Processing train_2 ==========\n",
      "KL Divergence: 0.0001\n",
      "Jensen-Shannon Divergence: 0.0000\n",
      "\n",
      "========== Processing train_3 ==========\n",
      "KL Divergence: 0.0001\n",
      "Jensen-Shannon Divergence: 0.0000\n",
      "\n",
      "========== Processing train_4 ==========\n",
      "KL Divergence: 0.0001\n",
      "Jensen-Shannon Divergence: 0.0000\n"
     ]
    }
   ],
   "source": [
    "import scipy.stats as stats\n",
    "\n",
    "\n",
    "# Load the partitions of the \"train\" split\n",
    "partition_0 = fds.load_partition(0, \"train\").to_pandas()\n",
    "partition_1 = fds.load_partition(1, \"train\").to_pandas()\n",
    "partition_2 = fds.load_partition(2, \"train\").to_pandas()\n",
    "partition_3 = fds.load_partition(3, \"train\").to_pandas()\n",
    "partition_4 = fds.load_partition(4, \"train\").to_pandas()\n",
    "\n",
    "test_df = test.to_pandas()  # Convert dataset to pandas DataFrame\n",
    "\n",
    "\n",
    "\n",
    "for i in range(5):\n",
    "    print(f\"\\n========== Processing train_{i} ==========\")\n",
    "    \n",
    "    # Retrieve the current training DataFrame.\n",
    "    train_df = globals()[f\"partition_{i}\"]  \n",
    "    \n",
    "    # Get rating distributions\n",
    "    train_counts = train_df['rating'].value_counts().sort_index()\n",
    "    test_counts = test_df['rating'].value_counts().sort_index()\n",
    "\n",
    "    # Normalize counts to get probability distributions\n",
    "    train_probs = train_counts / train_counts.sum()\n",
    "    test_probs = test_counts / test_counts.sum()\n",
    "\n",
    "    def kl_divergence(train_probs, test_probs):\n",
    "        return stats.entropy(test_probs, train_probs)\n",
    "\n",
    "    def jensen_shannon_divergence(train_probs, test_probs):\n",
    "        m = 0.5 * (train_probs + test_probs)\n",
    "        kl_train_m = stats.entropy(train_probs, m)\n",
    "        kl_test_m = stats.entropy(test_probs, m)\n",
    "        return 0.5 * (kl_train_m + kl_test_m)\n",
    "\n",
    "    # Run tests\n",
    "    kl_div = kl_divergence(train_probs, test_probs)\n",
    "    jsd = jensen_shannon_divergence(train_probs, test_probs)\n",
    "\n",
    "    # Display results\n",
    "    print(f\"KL Divergence: {kl_div:.4f}\")\n",
    "    print(f\"Jensen-Shannon Divergence: {jsd:.4f}\")\n",
    "\n",
    "    # **Interpretation:**\n",
    "    # - If p-value > 0.05 → Train and test distributions are NOT significantly different (good for IID).\n",
    "    # - KL and JSD near 0 → Train and test distributions are very similar.\n"
   ]
  },
  {
   "cell_type": "code",
   "execution_count": 2,
   "metadata": {},
   "outputs": [
    {
     "name": "stdout",
     "output_type": "stream",
     "text": [
      "\n",
      "========== Comparing Partition 0 vs Partition 1 ==========\n",
      "KL Divergence: 0.0000\n",
      "Jensen-Shannon Divergence: 0.0000\n",
      "\n",
      "========== Comparing Partition 0 vs Partition 2 ==========\n",
      "KL Divergence: 0.0001\n",
      "Jensen-Shannon Divergence: 0.0000\n",
      "\n",
      "========== Comparing Partition 0 vs Partition 3 ==========\n",
      "KL Divergence: 0.0000\n",
      "Jensen-Shannon Divergence: 0.0000\n",
      "\n",
      "========== Comparing Partition 0 vs Partition 4 ==========\n",
      "KL Divergence: 0.0001\n",
      "Jensen-Shannon Divergence: 0.0000\n",
      "\n",
      "========== Comparing Partition 1 vs Partition 2 ==========\n",
      "KL Divergence: 0.0001\n",
      "Jensen-Shannon Divergence: 0.0000\n",
      "\n",
      "========== Comparing Partition 1 vs Partition 3 ==========\n",
      "KL Divergence: 0.0000\n",
      "Jensen-Shannon Divergence: 0.0000\n",
      "\n",
      "========== Comparing Partition 1 vs Partition 4 ==========\n",
      "KL Divergence: 0.0001\n",
      "Jensen-Shannon Divergence: 0.0000\n",
      "\n",
      "========== Comparing Partition 2 vs Partition 3 ==========\n",
      "KL Divergence: 0.0001\n",
      "Jensen-Shannon Divergence: 0.0000\n",
      "\n",
      "========== Comparing Partition 2 vs Partition 4 ==========\n",
      "KL Divergence: 0.0000\n",
      "Jensen-Shannon Divergence: 0.0000\n",
      "\n",
      "========== Comparing Partition 3 vs Partition 4 ==========\n",
      "KL Divergence: 0.0001\n",
      "Jensen-Shannon Divergence: 0.0000\n"
     ]
    }
   ],
   "source": [
    "import scipy.stats as stats\n",
    "\n",
    "# Load the partitions of the \"train\" split\n",
    "partition_0 = fds.load_partition(0, \"train\").to_pandas()\n",
    "partition_1 = fds.load_partition(1, \"train\").to_pandas()\n",
    "partition_2 = fds.load_partition(2, \"train\").to_pandas()\n",
    "partition_3 = fds.load_partition(3, \"train\").to_pandas()\n",
    "partition_4 = fds.load_partition(4, \"train\").to_pandas()\n",
    "\n",
    "# Combine partitions into a list for easier iteration\n",
    "partitions = [partition_0, partition_1, partition_2, partition_3, partition_4]\n",
    "\n",
    "def kl_divergence(p, q):\n",
    "    \"\"\"\n",
    "    Compute the KL divergence of q from p.\n",
    "    Note: KL divergence is not symmetric.\n",
    "    \"\"\"\n",
    "    return stats.entropy(q, p)\n",
    "\n",
    "def jensen_shannon_divergence(p, q):\n",
    "    \"\"\"\n",
    "    Compute the Jensen-Shannon divergence, a symmetric measure\n",
    "    of the similarity between two probability distributions.\n",
    "    \"\"\"\n",
    "    m = 0.5 * (p + q)\n",
    "    kl_p_m = stats.entropy(p, m)\n",
    "    kl_q_m = stats.entropy(q, m)\n",
    "    return 0.5 * (kl_p_m + kl_q_m)\n",
    "\n",
    "# Loop over each unique pair of partitions to compare their rating distributions\n",
    "for i in range(len(partitions)):\n",
    "    for j in range(i+1, len(partitions)):\n",
    "        print(f\"\\n========== Comparing Partition {i} vs Partition {j} ==========\")\n",
    "        \n",
    "        # Calculate the rating counts and probability distributions for partition i and partition j\n",
    "        counts_i = partitions[i]['rating'].value_counts().sort_index()\n",
    "        counts_j = partitions[j]['rating'].value_counts().sort_index()\n",
    "\n",
    "        # Normalize counts to obtain probability distributions\n",
    "        p_i = counts_i / counts_i.sum()\n",
    "        p_j = counts_j / counts_j.sum()\n",
    "\n",
    "        # Compute divergence metrics\n",
    "        kl_div = kl_divergence(p_i, p_j)\n",
    "        js_div = jensen_shannon_divergence(p_i, p_j)\n",
    "\n",
    "        # Display results\n",
    "        print(f\"KL Divergence: {kl_div:.4f}\")\n",
    "        print(f\"Jensen-Shannon Divergence: {js_div:.4f}\")\n",
    "\n",
    "        # Interpretation:\n",
    "        # - KL Divergence near 0 indicates that partition j's distribution is very similar to partition i's.\n",
    "        # - Jensen-Shannon Divergence near 0 also indicates high similarity between the two distributions.\n"
   ]
  },
  {
   "cell_type": "markdown",
   "metadata": {},
   "source": [
    "# Held Out Test Data"
   ]
  },
  {
   "cell_type": "code",
   "execution_count": 4,
   "metadata": {},
   "outputs": [
    {
     "name": "stdout",
     "output_type": "stream",
     "text": [
      "size test\n",
      "99043\n",
      "Number of users\n",
      "25450\n",
      "Number of movies\n",
      "7264\n"
     ]
    },
    {
     "data": {
      "image/png": "[encoded data removed]",
      "text/plain": [
       "<Figure size 800x500 with 1 Axes>"
      ]
     },
     "metadata": {},
     "output_type": "display_data"
    },
    {
     "data": {
      "image/png": "[encoded data removed]",
      "text/plain": [
       "<Figure size 200x500 with 1 Axes>"
      ]
     },
     "metadata": {},
     "output_type": "display_data"
    }
   ],
   "source": [
    "import matplotlib.pyplot as plt\n",
    "import numpy as np\n",
    "import pandas as pd\n",
    "\n",
    "test = fds.load_split(\"validation\")\n",
    "\n",
    "# Descrptive statitics\n",
    "print('size test')\n",
    "print(len(test))\n",
    "print('Number of users')\n",
    "print(len(np.unique(test[\"user_id\"])))\n",
    "print('Number of movies')\n",
    "print(len(np.unique(test[\"movie_id\"])))\n",
    "\n",
    "\n",
    "\n",
    "def plot_rating_distribution(dataset):\n",
    "    \"\"\"\n",
    "    Generate a bar plot showing the percentage distribution of ratings \n",
    "    with colors mapped using the RdYlGn colormap.\n",
    "    \n",
    "    Parameters:\n",
    "        dataset (pandas.DataFrame): The dataset containing the 'rating' column.\n",
    "    \"\"\"\n",
    "    rating_counts = dataset['rating'].value_counts().sort_index()\n",
    "    rating_percentages = (rating_counts / rating_counts.sum()) * 100\n",
    "    colors = plt.cm.RdYlGn(np.linspace(0, 1, len(rating_percentages)))\n",
    "    plt.figure(figsize=(8, 5))\n",
    "    plt.bar(rating_percentages.index, rating_percentages.values, width=0.4, color=colors)\n",
    "    \n",
    "    plt.xlabel('Ratings')\n",
    "    plt.ylabel('Percent %')\n",
    "    plt.title('Test Dataset Ratings Distribution')\n",
    "    plt.xticks(rating_percentages.index)\n",
    "    plt.grid(axis='y', linestyle='--', alpha=0.7)\n",
    "    plt.show()\n",
    "\n",
    "\n",
    "test_df = test.to_pandas()  # Convert dataset to pandas DataFrame\n",
    "plot_rating_distribution(test_df)\n",
    "\n",
    "\n",
    "\n",
    "# Convert counts to percentages\n",
    "rating_counts = test_df['rating'].value_counts().sort_index()\n",
    "rating_percentages = (rating_counts / rating_counts.sum()) * 100\n",
    "fig, ax = plt.subplots(figsize=(2, 5))\n",
    "colors = plt.cm.RdYlGn(np.linspace(0, 1, len(rating_percentages)))\n",
    "\n",
    "bottom = 0\n",
    "for (rating, percentage), color in zip(rating_percentages.items(), colors):\n",
    "    ax.bar(1, percentage, bottom=bottom, color=color, label=f\"{rating}\")\n",
    "    bottom += percentage\n",
    "\n",
    "ax.set_ylabel(\"Percent %\")\n",
    "ax.set_xticks([])\n",
    "ax.set_title(\"Test Dataset Ratings Distribution\")\n",
    "\n",
    "ax.legend(title=\"Labels\", loc=\"center left\", bbox_to_anchor=(1, 0.5))\n",
    "plt.show()\n",
    "\n"
   ]
  }
 ],
 "metadata": {
  "kernelspec": {
   "display_name": "FedRec",
   "language": "python",
   "name": "python3"
  },
  "language_info": {
   "codemirror_mode": {
    "name": "ipython",
    "version": 3
   },
   "file_extension": ".py",
   "mimetype": "text/x-python",
   "name": "python",
   "nbconvert_exporter": "python",
   "pygments_lexer": "ipython3",
   "version": "3.9.6"
  },
  "orig_nbformat": 4
 },
 "nbformat": 4,
 "nbformat_minor": 2
}
