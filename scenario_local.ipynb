{
 "cells": [
  {
   "cell_type": "code",
   "execution_count": 1,
   "metadata": {},
   "outputs": [],
   "source": [
    "import random\n",
    "import numpy as np\n",
    "import torch\n",
    "\n",
    "\n",
    "def set_seed(seed: int):\n",
    "    random.seed(seed)\n",
    "    np.random.seed(seed)\n",
    "    torch.manual_seed(seed)\n",
    "    if torch.cuda.is_available():\n",
    "        torch.cuda.manual_seed(seed)\n",
    "        torch.cuda.manual_seed_all(seed)\n",
    "    torch.backends.cudnn.deterministic = True\n",
    "    torch.backends.cudnn.benchmark = False\n",
    "\n",
    "set_seed(42)\n"
   ]
  },
  {
   "cell_type": "code",
   "execution_count": 2,
   "metadata": {},
   "outputs": [
    {
     "name": "stderr",
     "output_type": "stream",
     "text": [
      "/home/haya/miniconda/envs/fedrec/lib/python3.9/site-packages/flwr_datasets/utils.py:109: UserWarning: The currently tested dataset are ['mnist', 'ylecun/mnist', 'cifar10', 'uoft-cs/cifar10', 'fashion_mnist', 'zalando-datasets/fashion_mnist', 'sasha/dog-food', 'zh-plus/tiny-imagenet', 'scikit-learn/adult-census-income', 'cifar100', 'uoft-cs/cifar100', 'svhn', 'ufldl-stanford/svhn', 'sentiment140', 'stanfordnlp/sentiment140', 'speech_commands', 'LIUM/tedlium', 'flwrlabs/femnist', 'flwrlabs/ucf101', 'flwrlabs/ambient-acoustic-context', 'jlh/uci-mushrooms', 'Mike0307/MNIST-M', 'flwrlabs/usps', 'scikit-learn/iris', 'flwrlabs/pacs', 'flwrlabs/cinic10', 'flwrlabs/caltech101', 'flwrlabs/office-home', 'flwrlabs/fed-isic2019']. Given: ashraq/movielens_ratings.\n",
      "  warnings.warn(\n"
     ]
    },
    {
     "name": "stdout",
     "output_type": "stream",
     "text": [
      "Train_0 Shape: (178277, 3)\n",
      "Train_1 Shape: (178277, 3)\n",
      "Train_2 Shape: (178276, 3)\n",
      "Train_3 Shape: (178276, 3)\n",
      "Train_4 Shape: (178276, 3)\n",
      "Test Shape: (99043, 3)\n",
      "35534\n",
      "35501\n",
      "35529\n",
      "35582\n",
      "35436\n"
     ]
    }
   ],
   "source": [
    "########################################\n",
    "# Data Preparation\n",
    "########################################\n",
    "\n",
    "from datasets import load_dataset\n",
    "import pandas as pd\n",
    "from flwr_datasets import FederatedDataset\n",
    "from flwr_datasets.partitioner import IidPartitioner\n",
    "\n",
    "\n",
    "dataset_name =  \"ashraq/movielens_ratings\"\n",
    "partitioner = IidPartitioner(num_partitions=5)           \n",
    "fds = FederatedDataset(dataset=dataset_name,\n",
    "                       partitioners={\"train\": partitioner})\n",
    "\n",
    "\n",
    "partition_0 = fds.load_partition(0, \"train\")\n",
    "partition_1 = fds.load_partition(1, \"train\")\n",
    "partition_2 = fds.load_partition(2, \"train\")\n",
    "partition_3 = fds.load_partition(3, \"train\")\n",
    "partition_4 = fds.load_partition(4, \"train\")\n",
    "\n",
    "\n",
    "train_0 = partition_0.to_pandas()[[\"user_id\", \"movie_id\", \"rating\"]]\n",
    "train_1 = partition_1.to_pandas()[[\"user_id\", \"movie_id\", \"rating\"]]\n",
    "train_2 = partition_2.to_pandas()[[\"user_id\", \"movie_id\", \"rating\"]]\n",
    "train_3 = partition_3.to_pandas()[[\"user_id\", \"movie_id\", \"rating\"]]\n",
    "train_4 = partition_4.to_pandas()[[\"user_id\", \"movie_id\", \"rating\"]]\n",
    "\n",
    "test = fds.load_split(\"validation\").to_pandas()[[\"user_id\", \"movie_id\", \"rating\"]]\n",
    "\n",
    "print(\"Train_0 Shape:\", train_0.shape)    \n",
    "print(\"Train_1 Shape:\", train_1.shape)\n",
    "print(\"Train_2 Shape:\", train_2.shape)\n",
    "print(\"Train_3 Shape:\", train_3.shape)\n",
    "print(\"Train_4 Shape:\", train_4.shape)\n",
    "print(\"Test Shape:\", test.shape)\n",
    "\n",
    "\n",
    "\n",
    "print(len(set(train_0['user_id']).union(test['user_id'])))\n",
    "print(len(set(train_1['user_id']).union(test['user_id'])))\n",
    "print(len(set(train_2['user_id']).union(test['user_id'])))\n",
    "print(len(set(train_3['user_id']).union(test['user_id'])))\n",
    "print(len(set(train_4['user_id']).union(test['user_id'])))\n"
   ]
  },
  {
   "cell_type": "code",
   "execution_count": 3,
   "metadata": {},
   "outputs": [
    {
     "name": "stdout",
     "output_type": "stream",
     "text": [
      "\n",
      "==================== Processing train_0 ==================\n",
      "Number of Users: 29146\n",
      "Number of Movies: 8507\n",
      "Global Interaction Shape: torch.Size([29146, 8507])\n",
      "First row of global interaction:\n",
      " tensor([0., 0., 0.,  ..., 0., 0., 0.])\n"
     ]
    },
    {
     "name": "stderr",
     "output_type": "stream",
     "text": [
      "\u001b[34m\u001b[1mwandb\u001b[0m: Currently logged in as: \u001b[33mhh_upb\u001b[0m (\u001b[33mhh_upb-paderborn-university\u001b[0m) to \u001b[32mhttps://api.wandb.ai\u001b[0m. Use \u001b[1m`wandb login --relogin`\u001b[0m to force relogin\n",
      "\u001b[34m\u001b[1mwandb\u001b[0m: Using wandb-core as the SDK backend.  Please refer to https://wandb.me/wandb-core for more information.\n"
     ]
    },
    {
     "data": {
      "text/html": [
       "Tracking run with wandb version 0.19.6"
      ],
      "text/plain": [
       "<IPython.core.display.HTML object>"
      ]
     },
     "metadata": {},
     "output_type": "display_data"
    },
    {
     "data": {
      "text/html": [
       "Run data is saved locally in <code>/home/haya/FedRec/wandb/run-20250207_094915-hawcynqs</code>"
      ],
      "text/plain": [
       "<IPython.core.display.HTML object>"
      ]
     },
     "metadata": {},
     "output_type": "display_data"
    },
    {
     "data": {
      "text/html": [
       "Syncing run <strong><a href='https://wandb.ai/hh_upb-paderborn-university/FedRec/runs/hawcynqs' target=\"_blank\">local_regression_0</a></strong> to <a href='https://wandb.ai/hh_upb-paderborn-university/FedRec' target=\"_blank\">Weights & Biases</a> (<a href='https://wandb.me/developer-guide' target=\"_blank\">docs</a>)<br>"
      ],
      "text/plain": [
       "<IPython.core.display.HTML object>"
      ]
     },
     "metadata": {},
     "output_type": "display_data"
    },
    {
     "data": {
      "text/html": [
       " View project at <a href='https://wandb.ai/hh_upb-paderborn-university/FedRec' target=\"_blank\">https://wandb.ai/hh_upb-paderborn-university/FedRec</a>"
      ],
      "text/plain": [
       "<IPython.core.display.HTML object>"
      ]
     },
     "metadata": {},
     "output_type": "display_data"
    },
    {
     "data": {
      "text/html": [
       " View run at <a href='https://wandb.ai/hh_upb-paderborn-university/FedRec/runs/hawcynqs' target=\"_blank\">https://wandb.ai/hh_upb-paderborn-university/FedRec/runs/hawcynqs</a>"
      ],
      "text/plain": [
       "<IPython.core.display.HTML object>"
      ]
     },
     "metadata": {},
     "output_type": "display_data"
    },
    {
     "name": "stderr",
     "output_type": "stream",
     "text": [
      "                                                                          \r"
     ]
    },
    {
     "name": "stdout",
     "output_type": "stream",
     "text": [
      "Epoch 1/50  Train Loss: 0.4385\n",
      "Epoch 1/50  Validation Loss: 0.4186\n",
      "  Validation loss improved. Saving model state.\n"
     ]
    },
    {
     "name": "stderr",
     "output_type": "stream",
     "text": [
      "                                                                          \r"
     ]
    },
    {
     "name": "stdout",
     "output_type": "stream",
     "text": [
      "Epoch 2/50  Train Loss: 0.3316\n",
      "Epoch 2/50  Validation Loss: 0.3258\n",
      "  Validation loss improved. Saving model state.\n"
     ]
    },
    {
     "name": "stderr",
     "output_type": "stream",
     "text": [
      "                                                                          \r"
     ]
    },
    {
     "name": "stdout",
     "output_type": "stream",
     "text": [
      "Epoch 3/50  Train Loss: 0.3100\n",
      "Epoch 3/50  Validation Loss: 0.2986\n",
      "  Validation loss improved. Saving model state.\n"
     ]
    },
    {
     "name": "stderr",
     "output_type": "stream",
     "text": [
      "                                                                          \r"
     ]
    },
    {
     "name": "stdout",
     "output_type": "stream",
     "text": [
      "Epoch 4/50  Train Loss: 0.2964\n",
      "Epoch 4/50  Validation Loss: 0.2820\n",
      "  Validation loss improved. Saving model state.\n"
     ]
    },
    {
     "name": "stderr",
     "output_type": "stream",
     "text": [
      "                                                                          \r"
     ]
    },
    {
     "name": "stdout",
     "output_type": "stream",
     "text": [
      "Epoch 5/50  Train Loss: 0.2880\n",
      "Epoch 5/50  Validation Loss: 0.2924\n",
      "  No improvement in validation loss for 1 epoch(s).\n"
     ]
    },
    {
     "name": "stderr",
     "output_type": "stream",
     "text": [
      "                                                                          \r"
     ]
    },
    {
     "name": "stdout",
     "output_type": "stream",
     "text": [
      "Epoch 6/50  Train Loss: 0.2810\n",
      "Epoch 6/50  Validation Loss: 0.2827\n",
      "  No improvement in validation loss for 2 epoch(s).\n"
     ]
    },
    {
     "name": "stderr",
     "output_type": "stream",
     "text": [
      "                                                                          \r"
     ]
    },
    {
     "name": "stdout",
     "output_type": "stream",
     "text": [
      "Epoch 7/50  Train Loss: 0.2748\n",
      "Epoch 7/50  Validation Loss: 0.2721\n",
      "  Validation loss improved. Saving model state.\n"
     ]
    },
    {
     "name": "stderr",
     "output_type": "stream",
     "text": [
      "                                                                          \r"
     ]
    },
    {
     "name": "stdout",
     "output_type": "stream",
     "text": [
      "Epoch 8/50  Train Loss: 0.2691\n",
      "Epoch 8/50  Validation Loss: 0.2847\n",
      "  No improvement in validation loss for 1 epoch(s).\n"
     ]
    },
    {
     "name": "stderr",
     "output_type": "stream",
     "text": [
      "                                                                          \r"
     ]
    },
    {
     "name": "stdout",
     "output_type": "stream",
     "text": [
      "Epoch 9/50  Train Loss: 0.2664\n",
      "Epoch 9/50  Validation Loss: 0.2776\n",
      "  No improvement in validation loss for 2 epoch(s).\n"
     ]
    },
    {
     "name": "stderr",
     "output_type": "stream",
     "text": [
      "                                                                           \r"
     ]
    },
    {
     "name": "stdout",
     "output_type": "stream",
     "text": [
      "Epoch 10/50  Train Loss: 0.2621\n",
      "Epoch 10/50  Validation Loss: 0.2780\n",
      "  No improvement in validation loss for 3 epoch(s).\n"
     ]
    },
    {
     "name": "stderr",
     "output_type": "stream",
     "text": [
      "                                                                           \r"
     ]
    },
    {
     "name": "stdout",
     "output_type": "stream",
     "text": [
      "Epoch 11/50  Train Loss: 0.2610\n",
      "Epoch 11/50  Validation Loss: 0.2775\n",
      "  No improvement in validation loss for 4 epoch(s).\n"
     ]
    },
    {
     "name": "stderr",
     "output_type": "stream",
     "text": [
      "                                                                           \r"
     ]
    },
    {
     "name": "stdout",
     "output_type": "stream",
     "text": [
      "Epoch 12/50  Train Loss: 0.2574\n",
      "Epoch 12/50  Validation Loss: 0.2770\n",
      "  No improvement in validation loss for 5 epoch(s).\n",
      "Early stopping triggered.\n",
      "Loaded best model state with validation loss: 0.2721\n",
      "Saved best model state\n"
     ]
    },
    {
     "data": {
      "text/html": [],
      "text/plain": [
       "<IPython.core.display.HTML object>"
      ]
     },
     "metadata": {},
     "output_type": "display_data"
    },
    {
     "data": {
      "text/html": [
       "<br>    <style><br>        .wandb-row {<br>            display: flex;<br>            flex-direction: row;<br>            flex-wrap: wrap;<br>            justify-content: flex-start;<br>            width: 100%;<br>        }<br>        .wandb-col {<br>            display: flex;<br>            flex-direction: column;<br>            flex-basis: 100%;<br>            flex: 1;<br>            padding: 10px;<br>        }<br>    </style><br><div class=\"wandb-row\"><div class=\"wandb-col\"><h3>Run history:</h3><br/><table class=\"wandb\"><tr><td>epoch</td><td>▁▂▂▃▄▄▅▅▆▇▇█</td></tr><tr><td>patience_counter</td><td>▁▁▁▁▁▃▅▁▃▅▆█</td></tr><tr><td>train_loss</td><td>█▄▃▃▂▂▂▁▁▁▁▁</td></tr><tr><td>val_loss</td><td>█▄▂▁▂▂▁▂▁▁▁▁</td></tr></table><br/></div><div class=\"wandb-col\"><h3>Run summary:</h3><br/><table class=\"wandb\"><tr><td>epoch</td><td>12</td></tr><tr><td>patience_counter</td><td>4</td></tr><tr><td>train_loss</td><td>0.25742</td></tr><tr><td>val_loss</td><td>0.27699</td></tr></table><br/></div></div>"
      ],
      "text/plain": [
       "<IPython.core.display.HTML object>"
      ]
     },
     "metadata": {},
     "output_type": "display_data"
    },
    {
     "data": {
      "text/html": [
       " View run <strong style=\"color:#cdcd00\">local_regression_0</strong> at: <a href='https://wandb.ai/hh_upb-paderborn-university/FedRec/runs/hawcynqs' target=\"_blank\">https://wandb.ai/hh_upb-paderborn-university/FedRec/runs/hawcynqs</a><br> View project at: <a href='https://wandb.ai/hh_upb-paderborn-university/FedRec' target=\"_blank\">https://wandb.ai/hh_upb-paderborn-university/FedRec</a><br>Synced 5 W&B file(s), 0 media file(s), 0 artifact file(s) and 0 other file(s)"
      ],
      "text/plain": [
       "<IPython.core.display.HTML object>"
      ]
     },
     "metadata": {},
     "output_type": "display_data"
    },
    {
     "data": {
      "text/html": [
       "Find logs at: <code>./wandb/run-20250207_094915-hawcynqs/logs</code>"
      ],
      "text/plain": [
       "<IPython.core.display.HTML object>"
      ]
     },
     "metadata": {},
     "output_type": "display_data"
    },
    {
     "name": "stderr",
     "output_type": "stream",
     "text": [
      "                                                              \r"
     ]
    },
    {
     "name": "stdout",
     "output_type": "stream",
     "text": [
      "Evaluation - Loss: 0.2748\n",
      "MAE: 0.7599, RMSE: 1.0102, R^2: 0.0642\n",
      "\n",
      "==================================================================\n",
      "\n",
      "==================== Processing train_1 ==================\n",
      "Number of Users: 29081\n",
      "Number of Movies: 8487\n",
      "Global Interaction Shape: torch.Size([29081, 8487])\n",
      "First row of global interaction:\n",
      " tensor([0., 0., 0.,  ..., 0., 0., 0.])\n"
     ]
    },
    {
     "data": {
      "text/html": [
       "Tracking run with wandb version 0.19.6"
      ],
      "text/plain": [
       "<IPython.core.display.HTML object>"
      ]
     },
     "metadata": {},
     "output_type": "display_data"
    },
    {
     "data": {
      "text/html": [
       "Run data is saved locally in <code>/home/haya/FedRec/wandb/run-20250207_095036-uc584drc</code>"
      ],
      "text/plain": [
       "<IPython.core.display.HTML object>"
      ]
     },
     "metadata": {},
     "output_type": "display_data"
    },
    {
     "data": {
      "text/html": [
       "Syncing run <strong><a href='https://wandb.ai/hh_upb-paderborn-university/FedRec/runs/uc584drc' target=\"_blank\">local_regression_1</a></strong> to <a href='https://wandb.ai/hh_upb-paderborn-university/FedRec' target=\"_blank\">Weights & Biases</a> (<a href='https://wandb.me/developer-guide' target=\"_blank\">docs</a>)<br>"
      ],
      "text/plain": [
       "<IPython.core.display.HTML object>"
      ]
     },
     "metadata": {},
     "output_type": "display_data"
    },
    {
     "data": {
      "text/html": [
       " View project at <a href='https://wandb.ai/hh_upb-paderborn-university/FedRec' target=\"_blank\">https://wandb.ai/hh_upb-paderborn-university/FedRec</a>"
      ],
      "text/plain": [
       "<IPython.core.display.HTML object>"
      ]
     },
     "metadata": {},
     "output_type": "display_data"
    },
    {
     "data": {
      "text/html": [
       " View run at <a href='https://wandb.ai/hh_upb-paderborn-university/FedRec/runs/uc584drc' target=\"_blank\">https://wandb.ai/hh_upb-paderborn-university/FedRec/runs/uc584drc</a>"
      ],
      "text/plain": [
       "<IPython.core.display.HTML object>"
      ]
     },
     "metadata": {},
     "output_type": "display_data"
    },
    {
     "name": "stderr",
     "output_type": "stream",
     "text": [
      "                                                                          \r"
     ]
    },
    {
     "name": "stdout",
     "output_type": "stream",
     "text": [
      "Epoch 1/50  Train Loss: 0.4422\n",
      "Epoch 1/50  Validation Loss: 0.3704\n",
      "  Validation loss improved. Saving model state.\n"
     ]
    },
    {
     "name": "stderr",
     "output_type": "stream",
     "text": [
      "                                                                          \r"
     ]
    },
    {
     "name": "stdout",
     "output_type": "stream",
     "text": [
      "Epoch 2/50  Train Loss: 0.3265\n",
      "Epoch 2/50  Validation Loss: 0.2973\n",
      "  Validation loss improved. Saving model state.\n"
     ]
    },
    {
     "name": "stderr",
     "output_type": "stream",
     "text": [
      "                                                                          \r"
     ]
    },
    {
     "name": "stdout",
     "output_type": "stream",
     "text": [
      "Epoch 3/50  Train Loss: 0.3002\n",
      "Epoch 3/50  Validation Loss: 0.2885\n",
      "  Validation loss improved. Saving model state.\n"
     ]
    },
    {
     "name": "stderr",
     "output_type": "stream",
     "text": [
      "                                                                          \r"
     ]
    },
    {
     "name": "stdout",
     "output_type": "stream",
     "text": [
      "Epoch 4/50  Train Loss: 0.2898\n",
      "Epoch 4/50  Validation Loss: 0.2945\n",
      "  No improvement in validation loss for 1 epoch(s).\n"
     ]
    },
    {
     "name": "stderr",
     "output_type": "stream",
     "text": [
      "                                                                          \r"
     ]
    },
    {
     "name": "stdout",
     "output_type": "stream",
     "text": [
      "Epoch 5/50  Train Loss: 0.2804\n",
      "Epoch 5/50  Validation Loss: 0.2723\n",
      "  Validation loss improved. Saving model state.\n"
     ]
    },
    {
     "name": "stderr",
     "output_type": "stream",
     "text": [
      "                                                                          \r"
     ]
    },
    {
     "name": "stdout",
     "output_type": "stream",
     "text": [
      "Epoch 6/50  Train Loss: 0.2756\n",
      "Epoch 6/50  Validation Loss: 0.2800\n",
      "  No improvement in validation loss for 1 epoch(s).\n"
     ]
    },
    {
     "name": "stderr",
     "output_type": "stream",
     "text": [
      "                                                                          \r"
     ]
    },
    {
     "name": "stdout",
     "output_type": "stream",
     "text": [
      "Epoch 7/50  Train Loss: 0.2693\n",
      "Epoch 7/50  Validation Loss: 0.2682\n",
      "  Validation loss improved. Saving model state.\n"
     ]
    },
    {
     "name": "stderr",
     "output_type": "stream",
     "text": [
      "                                                                          \r"
     ]
    },
    {
     "name": "stdout",
     "output_type": "stream",
     "text": [
      "Epoch 8/50  Train Loss: 0.2659\n",
      "Epoch 8/50  Validation Loss: 0.2665\n",
      "  Validation loss improved. Saving model state.\n"
     ]
    },
    {
     "name": "stderr",
     "output_type": "stream",
     "text": [
      "                                                                          \r"
     ]
    },
    {
     "name": "stdout",
     "output_type": "stream",
     "text": [
      "Epoch 9/50  Train Loss: 0.2613\n",
      "Epoch 9/50  Validation Loss: 0.2838\n",
      "  No improvement in validation loss for 1 epoch(s).\n"
     ]
    },
    {
     "name": "stderr",
     "output_type": "stream",
     "text": [
      "                                                                           \r"
     ]
    },
    {
     "name": "stdout",
     "output_type": "stream",
     "text": [
      "Epoch 10/50  Train Loss: 0.2596\n",
      "Epoch 10/50  Validation Loss: 0.2729\n",
      "  No improvement in validation loss for 2 epoch(s).\n"
     ]
    },
    {
     "name": "stderr",
     "output_type": "stream",
     "text": [
      "                                                                           \r"
     ]
    },
    {
     "name": "stdout",
     "output_type": "stream",
     "text": [
      "Epoch 11/50  Train Loss: 0.2568\n",
      "Epoch 11/50  Validation Loss: 0.2652\n",
      "  Validation loss improved. Saving model state.\n"
     ]
    },
    {
     "name": "stderr",
     "output_type": "stream",
     "text": [
      "                                                                           \r"
     ]
    },
    {
     "name": "stdout",
     "output_type": "stream",
     "text": [
      "Epoch 12/50  Train Loss: 0.2550\n",
      "Epoch 12/50  Validation Loss: 0.2712\n",
      "  No improvement in validation loss for 1 epoch(s).\n"
     ]
    },
    {
     "name": "stderr",
     "output_type": "stream",
     "text": [
      "                                                                           \r"
     ]
    },
    {
     "name": "stdout",
     "output_type": "stream",
     "text": [
      "Epoch 13/50  Train Loss: 0.2528\n",
      "Epoch 13/50  Validation Loss: 0.2694\n",
      "  No improvement in validation loss for 2 epoch(s).\n"
     ]
    },
    {
     "name": "stderr",
     "output_type": "stream",
     "text": [
      "                                                                           \r"
     ]
    },
    {
     "name": "stdout",
     "output_type": "stream",
     "text": [
      "Epoch 14/50  Train Loss: 0.2504\n",
      "Epoch 14/50  Validation Loss: 0.2656\n",
      "  No improvement in validation loss for 3 epoch(s).\n"
     ]
    },
    {
     "name": "stderr",
     "output_type": "stream",
     "text": [
      "                                                                           \r"
     ]
    },
    {
     "name": "stdout",
     "output_type": "stream",
     "text": [
      "Epoch 15/50  Train Loss: 0.2481\n",
      "Epoch 15/50  Validation Loss: 0.2592\n",
      "  Validation loss improved. Saving model state.\n"
     ]
    },
    {
     "name": "stderr",
     "output_type": "stream",
     "text": [
      "                                                                           \r"
     ]
    },
    {
     "name": "stdout",
     "output_type": "stream",
     "text": [
      "Epoch 16/50  Train Loss: 0.2477\n",
      "Epoch 16/50  Validation Loss: 0.2682\n",
      "  No improvement in validation loss for 1 epoch(s).\n"
     ]
    },
    {
     "name": "stderr",
     "output_type": "stream",
     "text": [
      "                                                                           \r"
     ]
    },
    {
     "name": "stdout",
     "output_type": "stream",
     "text": [
      "Epoch 17/50  Train Loss: 0.2460\n",
      "Epoch 17/50  Validation Loss: 0.2773\n",
      "  No improvement in validation loss for 2 epoch(s).\n"
     ]
    },
    {
     "name": "stderr",
     "output_type": "stream",
     "text": [
      "                                                                           \r"
     ]
    },
    {
     "name": "stdout",
     "output_type": "stream",
     "text": [
      "Epoch 18/50  Train Loss: 0.2446\n",
      "Epoch 18/50  Validation Loss: 0.2724\n",
      "  No improvement in validation loss for 3 epoch(s).\n"
     ]
    },
    {
     "name": "stderr",
     "output_type": "stream",
     "text": [
      "                                                                           \r"
     ]
    },
    {
     "name": "stdout",
     "output_type": "stream",
     "text": [
      "Epoch 19/50  Train Loss: 0.2425\n",
      "Epoch 19/50  Validation Loss: 0.2646\n",
      "  No improvement in validation loss for 4 epoch(s).\n"
     ]
    },
    {
     "name": "stderr",
     "output_type": "stream",
     "text": [
      "                                                                           \r"
     ]
    },
    {
     "name": "stdout",
     "output_type": "stream",
     "text": [
      "Epoch 20/50  Train Loss: 0.2414\n",
      "Epoch 20/50  Validation Loss: 0.2799\n",
      "  No improvement in validation loss for 5 epoch(s).\n",
      "Early stopping triggered.\n",
      "Loaded best model state with validation loss: 0.2592\n",
      "Saved best model state\n"
     ]
    },
    {
     "data": {
      "text/html": [],
      "text/plain": [
       "<IPython.core.display.HTML object>"
      ]
     },
     "metadata": {},
     "output_type": "display_data"
    },
    {
     "data": {
      "text/html": [
       "<br>    <style><br>        .wandb-row {<br>            display: flex;<br>            flex-direction: row;<br>            flex-wrap: wrap;<br>            justify-content: flex-start;<br>            width: 100%;<br>        }<br>        .wandb-col {<br>            display: flex;<br>            flex-direction: column;<br>            flex-basis: 100%;<br>            flex: 1;<br>            padding: 10px;<br>        }<br>    </style><br><div class=\"wandb-row\"><div class=\"wandb-col\"><h3>Run history:</h3><br/><table class=\"wandb\"><tr><td>epoch</td><td>▁▁▂▂▂▃▃▄▄▄▅▅▅▆▆▇▇▇██</td></tr><tr><td>patience_counter</td><td>▁▁▁▁▃▁▃▁▁▃▅▁▃▅▆▁▃▅▆█</td></tr><tr><td>train_loss</td><td>█▄▃▃▂▂▂▂▂▂▂▁▁▁▁▁▁▁▁▁</td></tr><tr><td>val_loss</td><td>█▃▃▃▂▂▂▁▃▂▁▂▂▁▁▂▂▂▁▂</td></tr></table><br/></div><div class=\"wandb-col\"><h3>Run summary:</h3><br/><table class=\"wandb\"><tr><td>epoch</td><td>20</td></tr><tr><td>patience_counter</td><td>4</td></tr><tr><td>train_loss</td><td>0.24136</td></tr><tr><td>val_loss</td><td>0.27991</td></tr></table><br/></div></div>"
      ],
      "text/plain": [
       "<IPython.core.display.HTML object>"
      ]
     },
     "metadata": {},
     "output_type": "display_data"
    },
    {
     "data": {
      "text/html": [
       " View run <strong style=\"color:#cdcd00\">local_regression_1</strong> at: <a href='https://wandb.ai/hh_upb-paderborn-university/FedRec/runs/uc584drc' target=\"_blank\">https://wandb.ai/hh_upb-paderborn-university/FedRec/runs/uc584drc</a><br> View project at: <a href='https://wandb.ai/hh_upb-paderborn-university/FedRec' target=\"_blank\">https://wandb.ai/hh_upb-paderborn-university/FedRec</a><br>Synced 5 W&B file(s), 0 media file(s), 0 artifact file(s) and 0 other file(s)"
      ],
      "text/plain": [
       "<IPython.core.display.HTML object>"
      ]
     },
     "metadata": {},
     "output_type": "display_data"
    },
    {
     "data": {
      "text/html": [
       "Find logs at: <code>./wandb/run-20250207_095036-uc584drc/logs</code>"
      ],
      "text/plain": [
       "<IPython.core.display.HTML object>"
      ]
     },
     "metadata": {},
     "output_type": "display_data"
    },
    {
     "name": "stderr",
     "output_type": "stream",
     "text": [
      "                                                              \r"
     ]
    },
    {
     "name": "stdout",
     "output_type": "stream",
     "text": [
      "Evaluation - Loss: 0.2768\n",
      "MAE: 0.7647, RMSE: 1.0199, R^2: 0.0341\n",
      "\n",
      "==================================================================\n",
      "\n",
      "==================== Processing train_2 ==================\n",
      "Number of Users: 29097\n",
      "Number of Movies: 8468\n",
      "Global Interaction Shape: torch.Size([29097, 8468])\n",
      "First row of global interaction:\n",
      " tensor([0., 0., 0.,  ..., 0., 0., 0.])\n"
     ]
    },
    {
     "data": {
      "text/html": [
       "Tracking run with wandb version 0.19.6"
      ],
      "text/plain": [
       "<IPython.core.display.HTML object>"
      ]
     },
     "metadata": {},
     "output_type": "display_data"
    },
    {
     "data": {
      "text/html": [
       "Run data is saved locally in <code>/home/haya/FedRec/wandb/run-20250207_095240-vn5i4nqq</code>"
      ],
      "text/plain": [
       "<IPython.core.display.HTML object>"
      ]
     },
     "metadata": {},
     "output_type": "display_data"
    },
    {
     "data": {
      "text/html": [
       "Syncing run <strong><a href='https://wandb.ai/hh_upb-paderborn-university/FedRec/runs/vn5i4nqq' target=\"_blank\">local_regression_2</a></strong> to <a href='https://wandb.ai/hh_upb-paderborn-university/FedRec' target=\"_blank\">Weights & Biases</a> (<a href='https://wandb.me/developer-guide' target=\"_blank\">docs</a>)<br>"
      ],
      "text/plain": [
       "<IPython.core.display.HTML object>"
      ]
     },
     "metadata": {},
     "output_type": "display_data"
    },
    {
     "data": {
      "text/html": [
       " View project at <a href='https://wandb.ai/hh_upb-paderborn-university/FedRec' target=\"_blank\">https://wandb.ai/hh_upb-paderborn-university/FedRec</a>"
      ],
      "text/plain": [
       "<IPython.core.display.HTML object>"
      ]
     },
     "metadata": {},
     "output_type": "display_data"
    },
    {
     "data": {
      "text/html": [
       " View run at <a href='https://wandb.ai/hh_upb-paderborn-university/FedRec/runs/vn5i4nqq' target=\"_blank\">https://wandb.ai/hh_upb-paderborn-university/FedRec/runs/vn5i4nqq</a>"
      ],
      "text/plain": [
       "<IPython.core.display.HTML object>"
      ]
     },
     "metadata": {},
     "output_type": "display_data"
    },
    {
     "name": "stderr",
     "output_type": "stream",
     "text": [
      "                                                                          \r"
     ]
    },
    {
     "name": "stdout",
     "output_type": "stream",
     "text": [
      "Epoch 1/50  Train Loss: 0.4297\n",
      "Epoch 1/50  Validation Loss: 0.3543\n",
      "  Validation loss improved. Saving model state.\n"
     ]
    },
    {
     "name": "stderr",
     "output_type": "stream",
     "text": [
      "                                                                          \r"
     ]
    },
    {
     "name": "stdout",
     "output_type": "stream",
     "text": [
      "Epoch 2/50  Train Loss: 0.3280\n",
      "Epoch 2/50  Validation Loss: 0.3212\n",
      "  Validation loss improved. Saving model state.\n"
     ]
    },
    {
     "name": "stderr",
     "output_type": "stream",
     "text": [
      "                                                                          \r"
     ]
    },
    {
     "name": "stdout",
     "output_type": "stream",
     "text": [
      "Epoch 3/50  Train Loss: 0.3071\n",
      "Epoch 3/50  Validation Loss: 0.2974\n",
      "  Validation loss improved. Saving model state.\n"
     ]
    },
    {
     "name": "stderr",
     "output_type": "stream",
     "text": [
      "                                                                          \r"
     ]
    },
    {
     "name": "stdout",
     "output_type": "stream",
     "text": [
      "Epoch 4/50  Train Loss: 0.2960\n",
      "Epoch 4/50  Validation Loss: 0.2821\n",
      "  Validation loss improved. Saving model state.\n"
     ]
    },
    {
     "name": "stderr",
     "output_type": "stream",
     "text": [
      "                                                                          \r"
     ]
    },
    {
     "name": "stdout",
     "output_type": "stream",
     "text": [
      "Epoch 5/50  Train Loss: 0.2870\n",
      "Epoch 5/50  Validation Loss: 0.2803\n",
      "  Validation loss improved. Saving model state.\n"
     ]
    },
    {
     "name": "stderr",
     "output_type": "stream",
     "text": [
      "                                                                          \r"
     ]
    },
    {
     "name": "stdout",
     "output_type": "stream",
     "text": [
      "Epoch 6/50  Train Loss: 0.2807\n",
      "Epoch 6/50  Validation Loss: 0.2686\n",
      "  Validation loss improved. Saving model state.\n"
     ]
    },
    {
     "name": "stderr",
     "output_type": "stream",
     "text": [
      "                                                                          \r"
     ]
    },
    {
     "name": "stdout",
     "output_type": "stream",
     "text": [
      "Epoch 7/50  Train Loss: 0.2764\n",
      "Epoch 7/50  Validation Loss: 0.2864\n",
      "  No improvement in validation loss for 1 epoch(s).\n"
     ]
    },
    {
     "name": "stderr",
     "output_type": "stream",
     "text": [
      "                                                                          \r"
     ]
    },
    {
     "name": "stdout",
     "output_type": "stream",
     "text": [
      "Epoch 8/50  Train Loss: 0.2690\n",
      "Epoch 8/50  Validation Loss: 0.2785\n",
      "  No improvement in validation loss for 2 epoch(s).\n"
     ]
    },
    {
     "name": "stderr",
     "output_type": "stream",
     "text": [
      "                                                                          \r"
     ]
    },
    {
     "name": "stdout",
     "output_type": "stream",
     "text": [
      "Epoch 9/50  Train Loss: 0.2668\n",
      "Epoch 9/50  Validation Loss: 0.2865\n",
      "  No improvement in validation loss for 3 epoch(s).\n"
     ]
    },
    {
     "name": "stderr",
     "output_type": "stream",
     "text": [
      "                                                                           \r"
     ]
    },
    {
     "name": "stdout",
     "output_type": "stream",
     "text": [
      "Epoch 10/50  Train Loss: 0.2633\n",
      "Epoch 10/50  Validation Loss: 0.2962\n",
      "  No improvement in validation loss for 4 epoch(s).\n"
     ]
    },
    {
     "name": "stderr",
     "output_type": "stream",
     "text": [
      "                                                                           \r"
     ]
    },
    {
     "name": "stdout",
     "output_type": "stream",
     "text": [
      "Epoch 11/50  Train Loss: 0.2615\n",
      "Epoch 11/50  Validation Loss: 0.2718\n",
      "  No improvement in validation loss for 5 epoch(s).\n",
      "Early stopping triggered.\n",
      "Loaded best model state with validation loss: 0.2686\n",
      "Saved best model state\n"
     ]
    },
    {
     "data": {
      "text/html": [],
      "text/plain": [
       "<IPython.core.display.HTML object>"
      ]
     },
     "metadata": {},
     "output_type": "display_data"
    },
    {
     "data": {
      "text/html": [
       "<br>    <style><br>        .wandb-row {<br>            display: flex;<br>            flex-direction: row;<br>            flex-wrap: wrap;<br>            justify-content: flex-start;<br>            width: 100%;<br>        }<br>        .wandb-col {<br>            display: flex;<br>            flex-direction: column;<br>            flex-basis: 100%;<br>            flex: 1;<br>            padding: 10px;<br>        }<br>    </style><br><div class=\"wandb-row\"><div class=\"wandb-col\"><h3>Run history:</h3><br/><table class=\"wandb\"><tr><td>epoch</td><td>▁▂▂▃▄▅▅▆▇▇█</td></tr><tr><td>patience_counter</td><td>▁▁▁▁▁▁▁▃▅▆█</td></tr><tr><td>train_loss</td><td>█▄▃▂▂▂▂▁▁▁▁</td></tr><tr><td>val_loss</td><td>█▅▃▂▂▁▂▂▂▃▁</td></tr></table><br/></div><div class=\"wandb-col\"><h3>Run summary:</h3><br/><table class=\"wandb\"><tr><td>epoch</td><td>11</td></tr><tr><td>patience_counter</td><td>4</td></tr><tr><td>train_loss</td><td>0.26148</td></tr><tr><td>val_loss</td><td>0.27185</td></tr></table><br/></div></div>"
      ],
      "text/plain": [
       "<IPython.core.display.HTML object>"
      ]
     },
     "metadata": {},
     "output_type": "display_data"
    },
    {
     "data": {
      "text/html": [
       " View run <strong style=\"color:#cdcd00\">local_regression_2</strong> at: <a href='https://wandb.ai/hh_upb-paderborn-university/FedRec/runs/vn5i4nqq' target=\"_blank\">https://wandb.ai/hh_upb-paderborn-university/FedRec/runs/vn5i4nqq</a><br> View project at: <a href='https://wandb.ai/hh_upb-paderborn-university/FedRec' target=\"_blank\">https://wandb.ai/hh_upb-paderborn-university/FedRec</a><br>Synced 5 W&B file(s), 0 media file(s), 0 artifact file(s) and 0 other file(s)"
      ],
      "text/plain": [
       "<IPython.core.display.HTML object>"
      ]
     },
     "metadata": {},
     "output_type": "display_data"
    },
    {
     "data": {
      "text/html": [
       "Find logs at: <code>./wandb/run-20250207_095240-vn5i4nqq/logs</code>"
      ],
      "text/plain": [
       "<IPython.core.display.HTML object>"
      ]
     },
     "metadata": {},
     "output_type": "display_data"
    },
    {
     "name": "stderr",
     "output_type": "stream",
     "text": [
      "                                                              \r"
     ]
    },
    {
     "name": "stdout",
     "output_type": "stream",
     "text": [
      "Evaluation - Loss: 0.2636\n",
      "MAE: 0.7378, RMSE: 0.9731, R^2: 0.1144\n",
      "\n",
      "==================================================================\n",
      "\n",
      "==================== Processing train_3 ==================\n",
      "Number of Users: 29194\n",
      "Number of Movies: 8509\n",
      "Global Interaction Shape: torch.Size([29194, 8509])\n",
      "First row of global interaction:\n",
      " tensor([0., 0., 0.,  ..., 0., 0., 0.])\n"
     ]
    },
    {
     "data": {
      "text/html": [
       "Tracking run with wandb version 0.19.6"
      ],
      "text/plain": [
       "<IPython.core.display.HTML object>"
      ]
     },
     "metadata": {},
     "output_type": "display_data"
    },
    {
     "data": {
      "text/html": [
       "Run data is saved locally in <code>/home/haya/FedRec/wandb/run-20250207_095354-9zu7z18m</code>"
      ],
      "text/plain": [
       "<IPython.core.display.HTML object>"
      ]
     },
     "metadata": {},
     "output_type": "display_data"
    },
    {
     "data": {
      "text/html": [
       "Syncing run <strong><a href='https://wandb.ai/hh_upb-paderborn-university/FedRec/runs/9zu7z18m' target=\"_blank\">local_regression_3</a></strong> to <a href='https://wandb.ai/hh_upb-paderborn-university/FedRec' target=\"_blank\">Weights & Biases</a> (<a href='https://wandb.me/developer-guide' target=\"_blank\">docs</a>)<br>"
      ],
      "text/plain": [
       "<IPython.core.display.HTML object>"
      ]
     },
     "metadata": {},
     "output_type": "display_data"
    },
    {
     "data": {
      "text/html": [
       " View project at <a href='https://wandb.ai/hh_upb-paderborn-university/FedRec' target=\"_blank\">https://wandb.ai/hh_upb-paderborn-university/FedRec</a>"
      ],
      "text/plain": [
       "<IPython.core.display.HTML object>"
      ]
     },
     "metadata": {},
     "output_type": "display_data"
    },
    {
     "data": {
      "text/html": [
       " View run at <a href='https://wandb.ai/hh_upb-paderborn-university/FedRec/runs/9zu7z18m' target=\"_blank\">https://wandb.ai/hh_upb-paderborn-university/FedRec/runs/9zu7z18m</a>"
      ],
      "text/plain": [
       "<IPython.core.display.HTML object>"
      ]
     },
     "metadata": {},
     "output_type": "display_data"
    },
    {
     "name": "stderr",
     "output_type": "stream",
     "text": [
      "                                                                          \r"
     ]
    },
    {
     "name": "stdout",
     "output_type": "stream",
     "text": [
      "Epoch 1/50  Train Loss: 0.4285\n",
      "Epoch 1/50  Validation Loss: 0.3659\n",
      "  Validation loss improved. Saving model state.\n"
     ]
    },
    {
     "name": "stderr",
     "output_type": "stream",
     "text": [
      "                                                                          \r"
     ]
    },
    {
     "name": "stdout",
     "output_type": "stream",
     "text": [
      "Epoch 2/50  Train Loss: 0.3296\n",
      "Epoch 2/50  Validation Loss: 0.3334\n",
      "  Validation loss improved. Saving model state.\n"
     ]
    },
    {
     "name": "stderr",
     "output_type": "stream",
     "text": [
      "                                                                          \r"
     ]
    },
    {
     "name": "stdout",
     "output_type": "stream",
     "text": [
      "Epoch 3/50  Train Loss: 0.3088\n",
      "Epoch 3/50  Validation Loss: 0.3164\n",
      "  Validation loss improved. Saving model state.\n"
     ]
    },
    {
     "name": "stderr",
     "output_type": "stream",
     "text": [
      "                                                                          \r"
     ]
    },
    {
     "name": "stdout",
     "output_type": "stream",
     "text": [
      "Epoch 4/50  Train Loss: 0.2965\n",
      "Epoch 4/50  Validation Loss: 0.2943\n",
      "  Validation loss improved. Saving model state.\n"
     ]
    },
    {
     "name": "stderr",
     "output_type": "stream",
     "text": [
      "                                                                          \r"
     ]
    },
    {
     "name": "stdout",
     "output_type": "stream",
     "text": [
      "Epoch 5/50  Train Loss: 0.2903\n",
      "Epoch 5/50  Validation Loss: 0.3017\n",
      "  No improvement in validation loss for 1 epoch(s).\n"
     ]
    },
    {
     "name": "stderr",
     "output_type": "stream",
     "text": [
      "                                                                          \r"
     ]
    },
    {
     "name": "stdout",
     "output_type": "stream",
     "text": [
      "Epoch 6/50  Train Loss: 0.2829\n",
      "Epoch 6/50  Validation Loss: 0.3015\n",
      "  No improvement in validation loss for 2 epoch(s).\n"
     ]
    },
    {
     "name": "stderr",
     "output_type": "stream",
     "text": [
      "                                                                          \r"
     ]
    },
    {
     "name": "stdout",
     "output_type": "stream",
     "text": [
      "Epoch 7/50  Train Loss: 0.2757\n",
      "Epoch 7/50  Validation Loss: 0.2842\n",
      "  Validation loss improved. Saving model state.\n"
     ]
    },
    {
     "name": "stderr",
     "output_type": "stream",
     "text": [
      "                                                                          \r"
     ]
    },
    {
     "name": "stdout",
     "output_type": "stream",
     "text": [
      "Epoch 8/50  Train Loss: 0.2736\n",
      "Epoch 8/50  Validation Loss: 0.2901\n",
      "  No improvement in validation loss for 1 epoch(s).\n"
     ]
    },
    {
     "name": "stderr",
     "output_type": "stream",
     "text": [
      "                                                                          \r"
     ]
    },
    {
     "name": "stdout",
     "output_type": "stream",
     "text": [
      "Epoch 9/50  Train Loss: 0.2681\n",
      "Epoch 9/50  Validation Loss: 0.2961\n",
      "  No improvement in validation loss for 2 epoch(s).\n"
     ]
    },
    {
     "name": "stderr",
     "output_type": "stream",
     "text": [
      "                                                                           \r"
     ]
    },
    {
     "name": "stdout",
     "output_type": "stream",
     "text": [
      "Epoch 10/50  Train Loss: 0.2633\n",
      "Epoch 10/50  Validation Loss: 0.2927\n",
      "  No improvement in validation loss for 3 epoch(s).\n"
     ]
    },
    {
     "name": "stderr",
     "output_type": "stream",
     "text": [
      "                                                                           \r"
     ]
    },
    {
     "name": "stdout",
     "output_type": "stream",
     "text": [
      "Epoch 11/50  Train Loss: 0.2604\n",
      "Epoch 11/50  Validation Loss: 0.2953\n",
      "  No improvement in validation loss for 4 epoch(s).\n"
     ]
    },
    {
     "name": "stderr",
     "output_type": "stream",
     "text": [
      "                                                                           \r"
     ]
    },
    {
     "name": "stdout",
     "output_type": "stream",
     "text": [
      "Epoch 12/50  Train Loss: 0.2593\n",
      "Epoch 12/50  Validation Loss: 0.2886\n",
      "  No improvement in validation loss for 5 epoch(s).\n",
      "Early stopping triggered.\n",
      "Loaded best model state with validation loss: 0.2842\n",
      "Saved best model state\n"
     ]
    },
    {
     "data": {
      "text/html": [],
      "text/plain": [
       "<IPython.core.display.HTML object>"
      ]
     },
     "metadata": {},
     "output_type": "display_data"
    },
    {
     "data": {
      "text/html": [
       "<br>    <style><br>        .wandb-row {<br>            display: flex;<br>            flex-direction: row;<br>            flex-wrap: wrap;<br>            justify-content: flex-start;<br>            width: 100%;<br>        }<br>        .wandb-col {<br>            display: flex;<br>            flex-direction: column;<br>            flex-basis: 100%;<br>            flex: 1;<br>            padding: 10px;<br>        }<br>    </style><br><div class=\"wandb-row\"><div class=\"wandb-col\"><h3>Run history:</h3><br/><table class=\"wandb\"><tr><td>epoch</td><td>▁▂▂▃▄▄▅▅▆▇▇█</td></tr><tr><td>patience_counter</td><td>▁▁▁▁▁▃▅▁▃▅▆█</td></tr><tr><td>train_loss</td><td>█▄▃▃▂▂▂▂▁▁▁▁</td></tr><tr><td>val_loss</td><td>█▅▄▂▃▂▁▂▂▂▂▁</td></tr></table><br/></div><div class=\"wandb-col\"><h3>Run summary:</h3><br/><table class=\"wandb\"><tr><td>epoch</td><td>12</td></tr><tr><td>patience_counter</td><td>4</td></tr><tr><td>train_loss</td><td>0.25933</td></tr><tr><td>val_loss</td><td>0.28857</td></tr></table><br/></div></div>"
      ],
      "text/plain": [
       "<IPython.core.display.HTML object>"
      ]
     },
     "metadata": {},
     "output_type": "display_data"
    },
    {
     "data": {
      "text/html": [
       " View run <strong style=\"color:#cdcd00\">local_regression_3</strong> at: <a href='https://wandb.ai/hh_upb-paderborn-university/FedRec/runs/9zu7z18m' target=\"_blank\">https://wandb.ai/hh_upb-paderborn-university/FedRec/runs/9zu7z18m</a><br> View project at: <a href='https://wandb.ai/hh_upb-paderborn-university/FedRec' target=\"_blank\">https://wandb.ai/hh_upb-paderborn-university/FedRec</a><br>Synced 5 W&B file(s), 0 media file(s), 0 artifact file(s) and 0 other file(s)"
      ],
      "text/plain": [
       "<IPython.core.display.HTML object>"
      ]
     },
     "metadata": {},
     "output_type": "display_data"
    },
    {
     "data": {
      "text/html": [
       "Find logs at: <code>./wandb/run-20250207_095354-9zu7z18m/logs</code>"
      ],
      "text/plain": [
       "<IPython.core.display.HTML object>"
      ]
     },
     "metadata": {},
     "output_type": "display_data"
    },
    {
     "name": "stderr",
     "output_type": "stream",
     "text": [
      "                                                              \r"
     ]
    },
    {
     "name": "stdout",
     "output_type": "stream",
     "text": [
      "Evaluation - Loss: 0.2759\n",
      "MAE: 0.7641, RMSE: 1.0075, R^2: 0.0454\n",
      "\n",
      "==================================================================\n",
      "\n",
      "==================== Processing train_4 ==================\n",
      "Number of Users: 29017\n",
      "Number of Movies: 8511\n",
      "Global Interaction Shape: torch.Size([29017, 8511])\n",
      "First row of global interaction:\n",
      " tensor([0., 0., 0.,  ..., 0., 0., 0.])\n"
     ]
    },
    {
     "data": {
      "text/html": [
       "Tracking run with wandb version 0.19.6"
      ],
      "text/plain": [
       "<IPython.core.display.HTML object>"
      ]
     },
     "metadata": {},
     "output_type": "display_data"
    },
    {
     "data": {
      "text/html": [
       "Run data is saved locally in <code>/home/haya/FedRec/wandb/run-20250207_095513-148e9ek1</code>"
      ],
      "text/plain": [
       "<IPython.core.display.HTML object>"
      ]
     },
     "metadata": {},
     "output_type": "display_data"
    },
    {
     "data": {
      "text/html": [
       "Syncing run <strong><a href='https://wandb.ai/hh_upb-paderborn-university/FedRec/runs/148e9ek1' target=\"_blank\">local_regression_4</a></strong> to <a href='https://wandb.ai/hh_upb-paderborn-university/FedRec' target=\"_blank\">Weights & Biases</a> (<a href='https://wandb.me/developer-guide' target=\"_blank\">docs</a>)<br>"
      ],
      "text/plain": [
       "<IPython.core.display.HTML object>"
      ]
     },
     "metadata": {},
     "output_type": "display_data"
    },
    {
     "data": {
      "text/html": [
       " View project at <a href='https://wandb.ai/hh_upb-paderborn-university/FedRec' target=\"_blank\">https://wandb.ai/hh_upb-paderborn-university/FedRec</a>"
      ],
      "text/plain": [
       "<IPython.core.display.HTML object>"
      ]
     },
     "metadata": {},
     "output_type": "display_data"
    },
    {
     "data": {
      "text/html": [
       " View run at <a href='https://wandb.ai/hh_upb-paderborn-university/FedRec/runs/148e9ek1' target=\"_blank\">https://wandb.ai/hh_upb-paderborn-university/FedRec/runs/148e9ek1</a>"
      ],
      "text/plain": [
       "<IPython.core.display.HTML object>"
      ]
     },
     "metadata": {},
     "output_type": "display_data"
    },
    {
     "name": "stderr",
     "output_type": "stream",
     "text": [
      "                                                                          \r"
     ]
    },
    {
     "name": "stdout",
     "output_type": "stream",
     "text": [
      "Epoch 1/50  Train Loss: 0.4359\n",
      "Epoch 1/50  Validation Loss: 0.3919\n",
      "  Validation loss improved. Saving model state.\n"
     ]
    },
    {
     "name": "stderr",
     "output_type": "stream",
     "text": [
      "                                                                          \r"
     ]
    },
    {
     "name": "stdout",
     "output_type": "stream",
     "text": [
      "Epoch 2/50  Train Loss: 0.3325\n",
      "Epoch 2/50  Validation Loss: 0.3257\n",
      "  Validation loss improved. Saving model state.\n"
     ]
    },
    {
     "name": "stderr",
     "output_type": "stream",
     "text": [
      "                                                                          \r"
     ]
    },
    {
     "name": "stdout",
     "output_type": "stream",
     "text": [
      "Epoch 3/50  Train Loss: 0.3096\n",
      "Epoch 3/50  Validation Loss: 0.3126\n",
      "  Validation loss improved. Saving model state.\n"
     ]
    },
    {
     "name": "stderr",
     "output_type": "stream",
     "text": [
      "                                                                          \r"
     ]
    },
    {
     "name": "stdout",
     "output_type": "stream",
     "text": [
      "Epoch 4/50  Train Loss: 0.2984\n",
      "Epoch 4/50  Validation Loss: 0.2946\n",
      "  Validation loss improved. Saving model state.\n"
     ]
    },
    {
     "name": "stderr",
     "output_type": "stream",
     "text": [
      "                                                                          \r"
     ]
    },
    {
     "name": "stdout",
     "output_type": "stream",
     "text": [
      "Epoch 5/50  Train Loss: 0.2864\n",
      "Epoch 5/50  Validation Loss: 0.2806\n",
      "  Validation loss improved. Saving model state.\n"
     ]
    },
    {
     "name": "stderr",
     "output_type": "stream",
     "text": [
      "                                                                          \r"
     ]
    },
    {
     "name": "stdout",
     "output_type": "stream",
     "text": [
      "Epoch 6/50  Train Loss: 0.2810\n",
      "Epoch 6/50  Validation Loss: 0.2932\n",
      "  No improvement in validation loss for 1 epoch(s).\n"
     ]
    },
    {
     "name": "stderr",
     "output_type": "stream",
     "text": [
      "                                                                          \r"
     ]
    },
    {
     "name": "stdout",
     "output_type": "stream",
     "text": [
      "Epoch 7/50  Train Loss: 0.2750\n",
      "Epoch 7/50  Validation Loss: 0.2829\n",
      "  No improvement in validation loss for 2 epoch(s).\n"
     ]
    },
    {
     "name": "stderr",
     "output_type": "stream",
     "text": [
      "                                                                          \r"
     ]
    },
    {
     "name": "stdout",
     "output_type": "stream",
     "text": [
      "Epoch 8/50  Train Loss: 0.2710\n",
      "Epoch 8/50  Validation Loss: 0.2737\n",
      "  Validation loss improved. Saving model state.\n"
     ]
    },
    {
     "name": "stderr",
     "output_type": "stream",
     "text": [
      "                                                                          \r"
     ]
    },
    {
     "name": "stdout",
     "output_type": "stream",
     "text": [
      "Epoch 9/50  Train Loss: 0.2666\n",
      "Epoch 9/50  Validation Loss: 0.2919\n",
      "  No improvement in validation loss for 1 epoch(s).\n"
     ]
    },
    {
     "name": "stderr",
     "output_type": "stream",
     "text": [
      "                                                                           \r"
     ]
    },
    {
     "name": "stdout",
     "output_type": "stream",
     "text": [
      "Epoch 10/50  Train Loss: 0.2630\n",
      "Epoch 10/50  Validation Loss: 0.2924\n",
      "  No improvement in validation loss for 2 epoch(s).\n"
     ]
    },
    {
     "name": "stderr",
     "output_type": "stream",
     "text": [
      "                                                                           \r"
     ]
    },
    {
     "name": "stdout",
     "output_type": "stream",
     "text": [
      "Epoch 11/50  Train Loss: 0.2612\n",
      "Epoch 11/50  Validation Loss: 0.2747\n",
      "  No improvement in validation loss for 3 epoch(s).\n"
     ]
    },
    {
     "name": "stderr",
     "output_type": "stream",
     "text": [
      "                                                                           \r"
     ]
    },
    {
     "name": "stdout",
     "output_type": "stream",
     "text": [
      "Epoch 12/50  Train Loss: 0.2593\n",
      "Epoch 12/50  Validation Loss: 0.2719\n",
      "  Validation loss improved. Saving model state.\n"
     ]
    },
    {
     "name": "stderr",
     "output_type": "stream",
     "text": [
      "                                                                           \r"
     ]
    },
    {
     "name": "stdout",
     "output_type": "stream",
     "text": [
      "Epoch 13/50  Train Loss: 0.2570\n",
      "Epoch 13/50  Validation Loss: 0.2771\n",
      "  No improvement in validation loss for 1 epoch(s).\n"
     ]
    },
    {
     "name": "stderr",
     "output_type": "stream",
     "text": [
      "                                                                           \r"
     ]
    },
    {
     "name": "stdout",
     "output_type": "stream",
     "text": [
      "Epoch 14/50  Train Loss: 0.2546\n",
      "Epoch 14/50  Validation Loss: 0.2797\n",
      "  No improvement in validation loss for 2 epoch(s).\n"
     ]
    },
    {
     "name": "stderr",
     "output_type": "stream",
     "text": [
      "                                                                           \r"
     ]
    },
    {
     "name": "stdout",
     "output_type": "stream",
     "text": [
      "Epoch 15/50  Train Loss: 0.2528\n",
      "Epoch 15/50  Validation Loss: 0.2887\n",
      "  No improvement in validation loss for 3 epoch(s).\n"
     ]
    },
    {
     "name": "stderr",
     "output_type": "stream",
     "text": [
      "                                                                           \r"
     ]
    },
    {
     "name": "stdout",
     "output_type": "stream",
     "text": [
      "Epoch 16/50  Train Loss: 0.2502\n",
      "Epoch 16/50  Validation Loss: 0.2903\n",
      "  No improvement in validation loss for 4 epoch(s).\n"
     ]
    },
    {
     "name": "stderr",
     "output_type": "stream",
     "text": [
      "                                                                           \r"
     ]
    },
    {
     "name": "stdout",
     "output_type": "stream",
     "text": [
      "Epoch 17/50  Train Loss: 0.2485\n",
      "Epoch 17/50  Validation Loss: 0.2887\n",
      "  No improvement in validation loss for 5 epoch(s).\n",
      "Early stopping triggered.\n",
      "Loaded best model state with validation loss: 0.2719\n",
      "Saved best model state\n"
     ]
    },
    {
     "data": {
      "text/html": [],
      "text/plain": [
       "<IPython.core.display.HTML object>"
      ]
     },
     "metadata": {},
     "output_type": "display_data"
    },
    {
     "data": {
      "text/html": [
       "<br>    <style><br>        .wandb-row {<br>            display: flex;<br>            flex-direction: row;<br>            flex-wrap: wrap;<br>            justify-content: flex-start;<br>            width: 100%;<br>        }<br>        .wandb-col {<br>            display: flex;<br>            flex-direction: column;<br>            flex-basis: 100%;<br>            flex: 1;<br>            padding: 10px;<br>        }<br>    </style><br><div class=\"wandb-row\"><div class=\"wandb-col\"><h3>Run history:</h3><br/><table class=\"wandb\"><tr><td>epoch</td><td>▁▁▂▂▃▃▄▄▅▅▅▆▆▇▇██</td></tr><tr><td>patience_counter</td><td>▁▁▁▁▁▁▃▅▁▃▅▆▁▃▅▆█</td></tr><tr><td>train_loss</td><td>█▄▃▃▂▂▂▂▂▂▁▁▁▁▁▁▁</td></tr><tr><td>val_loss</td><td>█▄▃▂▂▂▂▁▂▂▁▁▁▁▂▂▂</td></tr></table><br/></div><div class=\"wandb-col\"><h3>Run summary:</h3><br/><table class=\"wandb\"><tr><td>epoch</td><td>17</td></tr><tr><td>patience_counter</td><td>4</td></tr><tr><td>train_loss</td><td>0.24846</td></tr><tr><td>val_loss</td><td>0.28866</td></tr></table><br/></div></div>"
      ],
      "text/plain": [
       "<IPython.core.display.HTML object>"
      ]
     },
     "metadata": {},
     "output_type": "display_data"
    },
    {
     "data": {
      "text/html": [
       " View run <strong style=\"color:#cdcd00\">local_regression_4</strong> at: <a href='https://wandb.ai/hh_upb-paderborn-university/FedRec/runs/148e9ek1' target=\"_blank\">https://wandb.ai/hh_upb-paderborn-university/FedRec/runs/148e9ek1</a><br> View project at: <a href='https://wandb.ai/hh_upb-paderborn-university/FedRec' target=\"_blank\">https://wandb.ai/hh_upb-paderborn-university/FedRec</a><br>Synced 5 W&B file(s), 0 media file(s), 0 artifact file(s) and 0 other file(s)"
      ],
      "text/plain": [
       "<IPython.core.display.HTML object>"
      ]
     },
     "metadata": {},
     "output_type": "display_data"
    },
    {
     "data": {
      "text/html": [
       "Find logs at: <code>./wandb/run-20250207_095513-148e9ek1/logs</code>"
      ],
      "text/plain": [
       "<IPython.core.display.HTML object>"
      ]
     },
     "metadata": {},
     "output_type": "display_data"
    },
    {
     "name": "stderr",
     "output_type": "stream",
     "text": [
      "                                                              "
     ]
    },
    {
     "name": "stdout",
     "output_type": "stream",
     "text": [
      "Evaluation - Loss: 0.2718\n",
      "MAE: 0.7561, RMSE: 0.9921, R^2: 0.0685\n",
      "\n",
      "==================================================================\n"
     ]
    },
    {
     "name": "stderr",
     "output_type": "stream",
     "text": [
      "\r"
     ]
    }
   ],
   "source": [
    "from dmf import *\n",
    "from sklearn.model_selection import train_test_split\n",
    "\n",
    "\n",
    "eval_results = []\n",
    "\n",
    "# Loop over the five training partitions.\n",
    "for i in range(5):\n",
    "    print(f\"\\n==================== Processing train_{i} ==================\")\n",
    "    \n",
    "    train_full= globals()[f\"train_{i}\"]  \n",
    "    train, valid = train_test_split(train_full, test_size=0.2, random_state=42)\n",
    "    \n",
    "    train_users = set(train['user_id'].unique())\n",
    "    train_movies = set(train['movie_id'].unique())\n",
    "    valid = valid[\n",
    "        valid['user_id'].isin(train_users) &\n",
    "        valid['movie_id'].isin(train_movies)\n",
    "    ]\n",
    "    test = test[\n",
    "        test['user_id'].isin(train_users) &\n",
    "        test['movie_id'].isin(train_movies)\n",
    "    ]\n",
    "\n",
    "    all_users = set(train['user_id']).union(valid['user_id']).union(test['user_id'])\n",
    "    all_movies = set(train['movie_id']).union(valid['movie_id']).union(test['movie_id'])\n",
    "    \n",
    "    user_id_map = {user: idx for idx, user in enumerate(sorted(all_users))}\n",
    "    movie_id_map = {movie: idx for idx, movie in enumerate(sorted(all_movies))}\n",
    "    \n",
    "    num_users = len(user_id_map)\n",
    "    num_movies = len(movie_id_map)\n",
    "    \n",
    "    print(\"Number of Users:\", num_users)\n",
    "    print(\"Number of Movies:\", num_movies)\n",
    "    \n",
    "    # Build a dense interaction matrix from the training data using mapped indices.\n",
    "    # Each row corresponds to a user and each column to a movie.\n",
    "    interaction_matrix = np.zeros((num_users, num_movies), dtype=np.float32)\n",
    "    for _, row in train.iterrows():\n",
    "        user_idx = user_id_map[int(row['user_id'])]\n",
    "        movie_idx = movie_id_map[int(row['movie_id'])]\n",
    "        interaction_matrix[user_idx, movie_idx] = row['rating']\n",
    "    \n",
    "    global_interaction = torch.tensor(interaction_matrix)\n",
    "    print(\"Global Interaction Shape:\", global_interaction.shape)\n",
    "        \n",
    "    ########################################\n",
    "    # Define Datasets and DataLoaders\n",
    "    ########################################\n",
    "\n",
    "    train_dataset = DMFDataset(train, user_id_map, movie_id_map)\n",
    "    valid_dataset = DMFDataset(valid, user_id_map, movie_id_map)\n",
    "    test_dataset = DMFDataset(test, user_id_map, movie_id_map)\n",
    "    \n",
    "    ########################################\n",
    "    # Initialize DMF Model\n",
    "    ########################################\n",
    "    device = torch.device(\"cuda\" if torch.cuda.is_available() else \"cpu\")\n",
    "    \n",
    "    # Initialize the DMFRegressor with the mapped number of users and movies,\n",
    "    # and pass the global_interaction tensor.\n",
    "    model = DMFRegressor(\n",
    "        num_users=num_users, \n",
    "        num_movies=num_movies,\n",
    "        global_interaction=global_interaction,\n",
    "        user_embedding_size=32,  \n",
    "        item_embedding_size=32,  \n",
    "        user_hidden_sizes=[64, 32],  \n",
    "        item_hidden_sizes=[64, 32],\n",
    "        dropout=0.3,\n",
    "        activation=\"leaky_relu\",\n",
    "        bn=True,\n",
    "        init_method=\"norm\"\n",
    "    ).to(device)\n",
    "    \n",
    "    ########################################\n",
    "    # Train and Evaluate the Model\n",
    "    ########################################\n",
    "    # Training parameters.\n",
    "    batch_size = 256\n",
    "    num_epochs = 30\n",
    "    lr = 0.0001\n",
    "    weight_decay = 1e-4\n",
    "    patience = 5\n",
    "\n",
    "    run_name = f\"local_regression_{i}\"  \n",
    "\n",
    "    # If there is an active wandb run, finish it.\n",
    "    if wandb.run is not None:\n",
    "        wandb.finish() \n",
    "\n",
    "    # Initialize a new wandb run.\n",
    "    wandb.init(\n",
    "        project=\"FedRec\", \n",
    "        name=run_name,\n",
    "        reinit=True, \n",
    "        config={\n",
    "            \"batch_size\": batch_size,\n",
    "            \"num_epochs\": num_epochs,\n",
    "            \"lr\": lr,\n",
    "            \"weight_decay\": weight_decay,\n",
    "            \"patience\": patience\n",
    "        }\n",
    "    )\n",
    "    \n",
    "    # Train the model.\n",
    "    train_model_w_early_stopping(\n",
    "        model, \n",
    "        train_dataset, \n",
    "        valid_dataset, \n",
    "        device, \n",
    "        batch_size=batch_size, \n",
    "        num_epochs=num_epochs, \n",
    "        lr=lr, \n",
    "        weight_decay=weight_decay, \n",
    "        patience=patience,\n",
    "        wandb=wandb,\n",
    "        save_as=f\"models/local_{i}.pt\"\n",
    "    )\n",
    "    \n",
    "    # Evaluate the model.\n",
    "    average_loss, mae, rmse, r2 = evaluate_DMFRegressor(model, test_dataset, device, batch_size=batch_size)\n",
    "\n",
    "    # Append evaluation results.\n",
    "    eval_results.append({\n",
    "        \"partition\": i,\n",
    "        \"average_loss\": average_loss,\n",
    "        \"mae\": mae,\n",
    "        \"rmse\": rmse,\n",
    "        \"r2\": r2\n",
    "    })\n",
    "    \n",
    "    wandb.finish()\n",
    "    print(f\"\\n==================================================================\")\n"
   ]
  },
  {
   "cell_type": "code",
   "execution_count": 6,
   "metadata": {},
   "outputs": [
    {
     "data": {
      "text/html": [
       "<div>\n",
       "<style scoped>\n",
       "    .dataframe tbody tr th:only-of-type {\n",
       "        vertical-align: middle;\n",
       "    }\n",
       "\n",
       "    .dataframe tbody tr th {\n",
       "        vertical-align: top;\n",
       "    }\n",
       "\n",
       "    .dataframe thead th {\n",
       "        text-align: right;\n",
       "    }\n",
       "</style>\n",
       "<table border=\"1\" class=\"dataframe\">\n",
       "  <thead>\n",
       "    <tr style=\"text-align: right;\">\n",
       "      <th></th>\n",
       "      <th>partition</th>\n",
       "      <th>average_loss</th>\n",
       "      <th>mae</th>\n",
       "      <th>rmse</th>\n",
       "      <th>r2</th>\n",
       "    </tr>\n",
       "  </thead>\n",
       "  <tbody>\n",
       "    <tr>\n",
       "      <th>0</th>\n",
       "      <td>0</td>\n",
       "      <td>0.274781</td>\n",
       "      <td>0.759903</td>\n",
       "      <td>1.010170</td>\n",
       "      <td>0.064155</td>\n",
       "    </tr>\n",
       "    <tr>\n",
       "      <th>1</th>\n",
       "      <td>1</td>\n",
       "      <td>0.276759</td>\n",
       "      <td>0.764737</td>\n",
       "      <td>1.019940</td>\n",
       "      <td>0.034093</td>\n",
       "    </tr>\n",
       "    <tr>\n",
       "      <th>2</th>\n",
       "      <td>2</td>\n",
       "      <td>0.263644</td>\n",
       "      <td>0.737837</td>\n",
       "      <td>0.973077</td>\n",
       "      <td>0.114442</td>\n",
       "    </tr>\n",
       "    <tr>\n",
       "      <th>3</th>\n",
       "      <td>3</td>\n",
       "      <td>0.275940</td>\n",
       "      <td>0.764140</td>\n",
       "      <td>1.007528</td>\n",
       "      <td>0.045387</td>\n",
       "    </tr>\n",
       "    <tr>\n",
       "      <th>4</th>\n",
       "      <td>4</td>\n",
       "      <td>0.271848</td>\n",
       "      <td>0.756101</td>\n",
       "      <td>0.992086</td>\n",
       "      <td>0.068458</td>\n",
       "    </tr>\n",
       "  </tbody>\n",
       "</table>\n",
       "</div>"
      ],
      "text/plain": [
       "   partition  average_loss       mae      rmse        r2\n",
       "0          0      0.274781  0.759903  1.010170  0.064155\n",
       "1          1      0.276759  0.764737  1.019940  0.034093\n",
       "2          2      0.263644  0.737837  0.973077  0.114442\n",
       "3          3      0.275940  0.764140  1.007528  0.045387\n",
       "4          4      0.271848  0.756101  0.992086  0.068458"
      ]
     },
     "metadata": {},
     "output_type": "display_data"
    }
   ],
   "source": [
    "# display evaluation results\n",
    "eval_df = pd.DataFrame(eval_results)\n",
    "display(eval_df)"
   ]
  }
 ],
 "metadata": {
  "kernelspec": {
   "display_name": "FedRec",
   "language": "python",
   "name": "python3"
  },
  "language_info": {
   "codemirror_mode": {
    "name": "ipython",
    "version": 3
   },
   "file_extension": ".py",
   "mimetype": "text/x-python",
   "name": "python",
   "nbconvert_exporter": "python",
   "pygments_lexer": "ipython3",
   "version": "3.9.6"
  },
  "orig_nbformat": 4
 },
 "nbformat": 4,
 "nbformat_minor": 2
}
